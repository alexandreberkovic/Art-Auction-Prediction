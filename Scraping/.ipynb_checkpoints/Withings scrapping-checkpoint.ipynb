{
 "cells": [
  {
   "cell_type": "markdown",
   "id": "6d2987f7",
   "metadata": {},
   "source": [
    "# Scrapping algorithm to extract sleeping information from Withings plateform"
   ]
  },
  {
   "cell_type": "markdown",
   "id": "cb80aa01",
   "metadata": {},
   "source": [
    "## Imports"
   ]
  },
  {
   "cell_type": "code",
   "execution_count": 12,
   "id": "a8f9a0b9",
   "metadata": {},
   "outputs": [],
   "source": [
    "from selenium import webdriver\n",
    "from selenium.webdriver.support.ui import WebDriverWait\n",
    "from selenium.webdriver.common.by import By\n",
    "from selenium.webdriver.support import expected_conditions as EC\n",
    "from selenium.webdriver.chrome.options import Options\n",
    "from selenium.webdriver.common.action_chains import ActionChains\n",
    "from selenium.webdriver import ChromeOptions\n",
    "from selenium.webdriver.common.action_chains import ActionChains\n",
    "from bs4 import BeautifulSoup as bs\n",
    "import datetime as dt\n",
    "import time\n",
    "import requests\n",
    "import pandas as pd"
   ]
  },
  {
   "cell_type": "markdown",
   "id": "39559af7",
   "metadata": {},
   "source": [
    "## Chrome driver initialization"
   ]
  },
  {
   "cell_type": "code",
   "execution_count": 13,
   "id": "b4f1fbdf",
   "metadata": {},
   "outputs": [],
   "source": [
    "options = ChromeOptions()\n",
    "options.add_argument(\"--start-maximized\")"
   ]
  },
  {
   "cell_type": "code",
   "execution_count": 14,
   "id": "a8bf1ac5",
   "metadata": {},
   "outputs": [],
   "source": [
    "# initialize the Chrome driver\n",
    "driver = webdriver.Chrome(\"chromedriver\",options=options)"
   ]
  },
  {
   "cell_type": "code",
   "execution_count": 15,
   "id": "ebe26522",
   "metadata": {},
   "outputs": [],
   "source": [
    "driver.maximize_window()"
   ]
  },
  {
   "cell_type": "code",
   "execution_count": 16,
   "id": "1f32b459",
   "metadata": {},
   "outputs": [],
   "source": [
    "# head to Withings login page\n",
    "driver.get(\"https://account.withings.com/connectionwou/account_login?r=https://healthmate.withings.com/\")"
   ]
  },
  {
   "cell_type": "code",
   "execution_count": 17,
   "id": "48676638",
   "metadata": {},
   "outputs": [],
   "source": [
    "# Withings credentials\n",
    "username = \"ab10718@ic.ac.uk\"\n",
    "password = \"DE4IoT!\""
   ]
  },
  {
   "cell_type": "markdown",
   "id": "4fc8e52a",
   "metadata": {},
   "source": [
    "## Reaching the data"
   ]
  },
  {
   "cell_type": "markdown",
   "id": "e244d480",
   "metadata": {},
   "source": [
    "### Login"
   ]
  },
  {
   "cell_type": "code",
   "execution_count": 18,
   "id": "cb5a1732",
   "metadata": {},
   "outputs": [],
   "source": [
    "# accept cookies\n",
    "WebDriverWait(driver, 20).until(EC.visibility_of_all_elements_located((By.XPATH, \"//*[@class='accept-all primary']\")))[0].click()"
   ]
  },
  {
   "cell_type": "code",
   "execution_count": 19,
   "id": "2ba30b94",
   "metadata": {},
   "outputs": [
    {
     "name": "stderr",
     "output_type": "stream",
     "text": [
      "/var/folders/34/kt2mvxyx0lx0f3th233kk1200000gn/T/ipykernel_51458/2762265571.py:2: DeprecationWarning: find_element_by_* commands are deprecated. Please use find_element() instead\n",
      "  driver.find_element_by_name('email').send_keys(username)\n",
      "/var/folders/34/kt2mvxyx0lx0f3th233kk1200000gn/T/ipykernel_51458/2762265571.py:4: DeprecationWarning: find_element_by_* commands are deprecated. Please use find_element() instead\n",
      "  driver.find_element_by_name('password').send_keys(password)\n"
     ]
    }
   ],
   "source": [
    "# find username/email field and send the username itself to the input field\n",
    "driver.find_element_by_name('email').send_keys(username)\n",
    "# find password input field and insert password as well\n",
    "driver.find_element_by_name('password').send_keys(password)"
   ]
  },
  {
   "cell_type": "code",
   "execution_count": 20,
   "id": "34f25db6",
   "metadata": {},
   "outputs": [
    {
     "name": "stderr",
     "output_type": "stream",
     "text": [
      "/var/folders/34/kt2mvxyx0lx0f3th233kk1200000gn/T/ipykernel_51458/376887037.py:2: DeprecationWarning: find_element_by_* commands are deprecated. Please use find_element() instead\n",
      "  driver.find_element_by_class_name(\"primary\").click()\n"
     ]
    }
   ],
   "source": [
    "# click login button\n",
    "driver.find_element_by_class_name(\"primary\").click()"
   ]
  },
  {
   "cell_type": "code",
   "execution_count": 21,
   "id": "94a83644",
   "metadata": {},
   "outputs": [
    {
     "name": "stdout",
     "output_type": "stream",
     "text": [
      "[+] Login successful\n"
     ]
    },
    {
     "name": "stderr",
     "output_type": "stream",
     "text": [
      "/var/folders/34/kt2mvxyx0lx0f3th233kk1200000gn/T/ipykernel_51458/738448743.py:7: DeprecationWarning: find_elements_by_* commands are deprecated. Please use find_elements() instead\n",
      "  errors = driver.find_elements_by_class_name(\"flash-error\")\n"
     ]
    }
   ],
   "source": [
    "# wait the ready state to be complete\n",
    "WebDriverWait(driver=driver, timeout=10).until(\n",
    "    lambda x: x.execute_script(\"return document.readyState === 'complete'\")\n",
    ")\n",
    "error_message = \"Incorrect username or password.\"\n",
    "# get the errors (if there are)\n",
    "errors = driver.find_elements_by_class_name(\"flash-error\")\n",
    "# print the errors optionally\n",
    "# for e in errors:\n",
    "#     print(e.text)\n",
    "# if we find that error message within errors, then login is failed\n",
    "if any(error_message in e.text for e in errors):\n",
    "    print(\"[!] Login failed\")\n",
    "else:\n",
    "    print(\"[+] Login successful\")"
   ]
  },
  {
   "cell_type": "markdown",
   "id": "a8428bbe",
   "metadata": {},
   "source": [
    "### Reach the sleeping data page"
   ]
  },
  {
   "cell_type": "code",
   "execution_count": 22,
   "id": "13d7a947",
   "metadata": {},
   "outputs": [],
   "source": [
    "# WebDriverWait(driver, 20).until(EC.visibility_of_all_elements_located((By.XPATH, \"//*[@class='item self-activity-sleep sleep']\")))[0].click()\n",
    "WebDriverWait(driver, 20).until(EC.visibility_of_all_elements_located((By.XPATH, \"/html/body/div[2]/div/div[3]/div[2]/div[2]/div/div[2]/div/div[1]/ul/li[3]/div\")))[0].click()"
   ]
  },
  {
   "cell_type": "code",
   "execution_count": 23,
   "id": "b9490fbc",
   "metadata": {},
   "outputs": [],
   "source": [
    "WebDriverWait(driver, 20).until(EC.visibility_of_all_elements_located((By.XPATH, \"//*[@class='HMIcons_close action js-close']\")))[0].click()"
   ]
  },
  {
   "cell_type": "code",
   "execution_count": 363,
   "id": "fec163ca",
   "metadata": {},
   "outputs": [],
   "source": [
    "string = '//*[@id=\"sleep-content\"]/div/div[2]/ul/li[1]/div/div[1]/div[1]/p'"
   ]
  },
  {
   "cell_type": "code",
   "execution_count": 364,
   "id": "968a23b0",
   "metadata": {},
   "outputs": [
    {
     "data": {
      "text/plain": [
       "['//*[@id=\"sleep-content\"]/div/div[2]/ul/', '/div/div[1]/div[1]/p']"
      ]
     },
     "execution_count": 364,
     "metadata": {},
     "output_type": "execute_result"
    }
   ],
   "source": [
    "string.split('li[1]')"
   ]
  },
  {
   "cell_type": "code",
   "execution_count": 365,
   "id": "cf054099",
   "metadata": {},
   "outputs": [
    {
     "name": "stderr",
     "output_type": "stream",
     "text": [
      "/var/folders/34/kt2mvxyx0lx0f3th233kk1200000gn/T/ipykernel_15466/3552891975.py:2: DeprecationWarning: find_element_by_* commands are deprecated. Please use find_element() instead\n",
      "  elem = driver.find_element_by_xpath('//*[@id=\"sleep-content\"]/div/div[2]/ul/li[1]/div/div[1]/div[1]/p')\n"
     ]
    },
    {
     "data": {
      "text/plain": [
       "'4 décembre 2021 (Sleep)'"
      ]
     },
     "execution_count": 365,
     "metadata": {},
     "output_type": "execute_result"
    }
   ],
   "source": [
    "# change li number to get the date\n",
    "elem = driver.find_element_by_xpath('//*[@id=\"sleep-content\"]/div/div[2]/ul/li[1]/div/div[1]/div[1]/p')\n",
    "elem.text"
   ]
  },
  {
   "cell_type": "code",
   "execution_count": 366,
   "id": "3a2f852d",
   "metadata": {},
   "outputs": [
    {
     "name": "stderr",
     "output_type": "stream",
     "text": [
      "/var/folders/34/kt2mvxyx0lx0f3th233kk1200000gn/T/ipykernel_15466/3117207265.py:1: DeprecationWarning: find_element_by_* commands are deprecated. Please use find_element() instead\n",
      "  element = driver.find_element_by_xpath(\"//li[1]//*[contains(@class, 'content')]//*[contains(@class, 'blocl')]//*[contains(@class, 'graph')]//*[name()='svg']//*[name()='g']//*[name()='rect' and contains(@class, 'shadow-rect')]\")\n"
     ]
    }
   ],
   "source": [
    "element = driver.find_element_by_xpath(\"//li[1]//*[contains(@class, 'content')]//*[contains(@class, 'blocl')]//*[contains(@class, 'graph')]//*[name()='svg']//*[name()='g']//*[name()='rect' and contains(@class, 'shadow-rect')]\")\n"
   ]
  },
  {
   "cell_type": "code",
   "execution_count": 367,
   "id": "73507b98",
   "metadata": {},
   "outputs": [],
   "source": [
    "hover = ActionChains(driver).move_to_element(element)\n",
    "hover.perform()"
   ]
  },
  {
   "cell_type": "code",
   "execution_count": 368,
   "id": "b48ea6a0",
   "metadata": {},
   "outputs": [
    {
     "name": "stderr",
     "output_type": "stream",
     "text": [
      "/var/folders/34/kt2mvxyx0lx0f3th233kk1200000gn/T/ipykernel_15466/1686082258.py:4: DeprecationWarning: find_element_by_* commands are deprecated. Please use find_element() instead\n",
      "  new_element = driver.find_element_by_xpath(\"//*[local-name()='svg' and @height=235]//*[name()='g']//*[name()='text' and @class='tooltip-value']\")\n"
     ]
    }
   ],
   "source": [
    "# in the xpath used below, the li number represents the date number\n",
    "# from most recent to oldest\n",
    "\n",
    "new_element = driver.find_element_by_xpath(\"//*[local-name()='svg' and @height=235]//*[name()='g']//*[name()='text' and @class='tooltip-value']\")"
   ]
  },
  {
   "cell_type": "code",
   "execution_count": 369,
   "id": "823a7648",
   "metadata": {},
   "outputs": [
    {
     "data": {
      "text/plain": [
       "'Reveillé, 02:51-03:14'"
      ]
     },
     "execution_count": 369,
     "metadata": {},
     "output_type": "execute_result"
    }
   ],
   "source": [
    "new_element.text"
   ]
  },
  {
   "cell_type": "markdown",
   "id": "050b370f",
   "metadata": {},
   "source": [
    "### Loop trial"
   ]
  },
  {
   "cell_type": "code",
   "execution_count": 371,
   "id": "813dea3c",
   "metadata": {},
   "outputs": [],
   "source": [
    "driver.execute_script(\"window.scrollTo(0,document.body.scrollHeight)\")"
   ]
  },
  {
   "cell_type": "code",
   "execution_count": 372,
   "id": "6d617179",
   "metadata": {},
   "outputs": [],
   "source": [
    "date = '//*[@id=\"sleep-content\"]/div/div[2]/ul/li[1]/div/div[1]/div[1]/p'\n",
    "main = \"//li[1]//*[contains(@class, 'content')]//*[contains(@class, 'blocl')]//*[contains(@class, 'graph')]//*[name()='svg']//*[name()='g']//*[name()='rect' and contains(@class, 'shadow-rect')]\"\n",
    "sub = \"//*[local-name()='svg' and @height=235]//*[name()='g']//*[name()='text' and @class='tooltip-value']\"\n",
    "d0 = pd.to_datetime('12/11/2021', format='%d/%m/%Y')\n",
    "d1 = pd.to_datetime(\"today\")\n",
    "delta = d1 - d0\n",
    "li = delta.days  #current date\n",
    "lst = []"
   ]
  },
  {
   "cell_type": "code",
   "execution_count": 373,
   "id": "7a1e652f",
   "metadata": {},
   "outputs": [],
   "source": [
    "charts = main.split('li[1]')\n",
    "# newMain = driver.find_element_by_xpath(charts[0]+'li['+str(i)+']'+charts[1])"
   ]
  },
  {
   "cell_type": "code",
   "execution_count": 374,
   "id": "2d90c332",
   "metadata": {},
   "outputs": [
    {
     "data": {
      "text/plain": [
       "['//',\n",
       " \"//*[contains(@class, 'content')]//*[contains(@class, 'blocl')]//*[contains(@class, 'graph')]//*[name()='svg']//*[name()='g']//*[name()='rect' and contains(@class, 'shadow-rect')]\"]"
      ]
     },
     "execution_count": 374,
     "metadata": {},
     "output_type": "execute_result"
    }
   ],
   "source": [
    "charts"
   ]
  },
  {
   "cell_type": "code",
   "execution_count": 375,
   "id": "63d7b8a4",
   "metadata": {},
   "outputs": [],
   "source": [
    "# def get_data(date,main,sub,li,driver,lst):\n",
    "    \n",
    "#     dateStr = date.split('li[1]')\n",
    "#     elem = driver.find_element_by_xpath(dateStr[0]+'li['+str(li)+']'+dateStr[1])\n",
    "#     dateFinal = elem.text.split('(Sleep)')[0]\n",
    "    \n",
    "#     charts = main.split('li[1]')\n",
    "#     newMain = str(charts[0]+'li['+str(li)+']'+charts[1])\n",
    "        \n",
    "# #     links = driver.find_elements_by_xpath(newMain)\n",
    "#     links = driver.find_elements_by_xpath(newMain)\n",
    "#     for values in links:\n",
    "#         hover = ActionChains(driver).move_to_element(values)\n",
    "#         hover.perform()\n",
    "#         subStr = driver.find_element_by_xpath(sub)\n",
    "#         sleep = subStr.text\n",
    "#         lst.append(sleep)\n",
    "    \n",
    "    \n",
    "# #     links = driver.find_elements_by_xpath(main)\n",
    "# #     for values in links:\n",
    "# #         hover = ActionChains(driver).move_to_element(values)\n",
    "# #         hover.perform()\n",
    "# #         subStr = driver.find_element_by_xpath(sub)\n",
    "# #         sleep = subStr.text\n",
    "# #         lst.append(sleep)\n",
    "        \n",
    "#     return [dateFinal,lst]\n",
    "    "
   ]
  },
  {
   "cell_type": "code",
   "execution_count": 376,
   "id": "0584354a",
   "metadata": {},
   "outputs": [
    {
     "data": {
      "text/plain": [
       "'19 novembre 2021 '"
      ]
     },
     "execution_count": 376,
     "metadata": {},
     "output_type": "execute_result"
    }
   ],
   "source": [
    "dateStr = date.split('li[1]')\n",
    "elem = driver.find_element(By.XPATH,dateStr[0]+'li['+str(16)+']'+dateStr[1])\n",
    "dateFinal = elem.text.split('(Sleep)')[0]\n",
    "\n",
    "charts = main.split('li[1]')\n",
    "newMain = str(charts[0]+'li['+str(5)+']'+charts[1])\n",
    "\n",
    "links = driver.find_element(By.XPATH,newMain)\n",
    "dateFinal"
   ]
  },
  {
   "cell_type": "code",
   "execution_count": 263,
   "id": "9f7ceb96",
   "metadata": {},
   "outputs": [],
   "source": [
    "def get_data(date,main,sub,li,driver):\n",
    "    main_lst = []\n",
    "    lst = []\n",
    "    lst_2 = []\n",
    "    for i in range(10,li):\n",
    "        print(i)\n",
    "        dateStr = date.split('li[1]')\n",
    "        elem = driver.find_element_by_xpath(dateStr[0]+'li['+str(i)+']'+dateStr[1])\n",
    "        dateFinal = elem.text.split('(Sleep)')[0]\n",
    "\n",
    "        charts = main.split('li[1]')\n",
    "        newMain = str(charts[0]+'li['+str(i)+']'+charts[1])\n",
    "        \n",
    "        links = driver.find_elements_by_xpath(newMain)\n",
    "        for values in links:\n",
    "            hover = ActionChains(driver).move_to_element(values)\n",
    "            hover.perform()\n",
    "            subStr = driver.find_element_by_xpath(sub)\n",
    "            sleep = subStr.text\n",
    "            sleep = sleep.split(',')\n",
    "#             lst.append(sleep)\n",
    "            lst_2.append([dateFinal,sleep[0],sleep[1]])\n",
    "            \n",
    "            \n",
    "#         formatted = [dateFinal,lst]\n",
    "#         lst = []\n",
    "#         main_lst.append(formatted)\n",
    "        \n",
    "    return lst_2\n",
    "    "
   ]
  },
  {
   "cell_type": "code",
   "execution_count": 264,
   "id": "b7c6dd97",
   "metadata": {},
   "outputs": [
    {
     "name": "stdout",
     "output_type": "stream",
     "text": [
      "10\n"
     ]
    },
    {
     "name": "stderr",
     "output_type": "stream",
     "text": [
      "/var/folders/34/kt2mvxyx0lx0f3th233kk1200000gn/T/ipykernel_15466/348451632.py:8: DeprecationWarning: find_element_by_* commands are deprecated. Please use find_element() instead\n",
      "  elem = driver.find_element_by_xpath(dateStr[0]+'li['+str(i)+']'+dateStr[1])\n",
      "/var/folders/34/kt2mvxyx0lx0f3th233kk1200000gn/T/ipykernel_15466/348451632.py:14: DeprecationWarning: find_elements_by_* commands are deprecated. Please use find_elements() instead\n",
      "  links = driver.find_elements_by_xpath(newMain)\n",
      "/var/folders/34/kt2mvxyx0lx0f3th233kk1200000gn/T/ipykernel_15466/348451632.py:18: DeprecationWarning: find_element_by_* commands are deprecated. Please use find_element() instead\n",
      "  subStr = driver.find_element_by_xpath(sub)\n"
     ]
    },
    {
     "name": "stdout",
     "output_type": "stream",
     "text": [
      "11\n",
      "12\n",
      "13\n",
      "14\n",
      "15\n",
      "16\n",
      "17\n",
      "18\n"
     ]
    },
    {
     "ename": "KeyboardInterrupt",
     "evalue": "",
     "output_type": "error",
     "traceback": [
      "\u001b[0;31m---------------------------------------------------------------------------\u001b[0m",
      "\u001b[0;31mKeyboardInterrupt\u001b[0m                         Traceback (most recent call last)",
      "\u001b[0;32m/var/folders/34/kt2mvxyx0lx0f3th233kk1200000gn/T/ipykernel_15466/3565183473.py\u001b[0m in \u001b[0;36m<module>\u001b[0;34m\u001b[0m\n\u001b[0;32m----> 1\u001b[0;31m \u001b[0mbis\u001b[0m \u001b[0;34m=\u001b[0m \u001b[0mget_data\u001b[0m\u001b[0;34m(\u001b[0m\u001b[0mdate\u001b[0m\u001b[0;34m,\u001b[0m\u001b[0mmain\u001b[0m\u001b[0;34m,\u001b[0m\u001b[0msub\u001b[0m\u001b[0;34m,\u001b[0m\u001b[0mli\u001b[0m\u001b[0;34m,\u001b[0m\u001b[0mdriver\u001b[0m\u001b[0;34m)\u001b[0m\u001b[0;34m\u001b[0m\u001b[0;34m\u001b[0m\u001b[0m\n\u001b[0m\u001b[1;32m      2\u001b[0m \u001b[0mbis\u001b[0m\u001b[0;34m\u001b[0m\u001b[0;34m\u001b[0m\u001b[0m\n",
      "\u001b[0;32m/var/folders/34/kt2mvxyx0lx0f3th233kk1200000gn/T/ipykernel_15466/348451632.py\u001b[0m in \u001b[0;36mget_data\u001b[0;34m(date, main, sub, li, driver)\u001b[0m\n\u001b[1;32m     12\u001b[0m         \u001b[0mnewMain\u001b[0m \u001b[0;34m=\u001b[0m \u001b[0mstr\u001b[0m\u001b[0;34m(\u001b[0m\u001b[0mcharts\u001b[0m\u001b[0;34m[\u001b[0m\u001b[0;36m0\u001b[0m\u001b[0;34m]\u001b[0m\u001b[0;34m+\u001b[0m\u001b[0;34m'li['\u001b[0m\u001b[0;34m+\u001b[0m\u001b[0mstr\u001b[0m\u001b[0;34m(\u001b[0m\u001b[0mi\u001b[0m\u001b[0;34m)\u001b[0m\u001b[0;34m+\u001b[0m\u001b[0;34m']'\u001b[0m\u001b[0;34m+\u001b[0m\u001b[0mcharts\u001b[0m\u001b[0;34m[\u001b[0m\u001b[0;36m1\u001b[0m\u001b[0;34m]\u001b[0m\u001b[0;34m)\u001b[0m\u001b[0;34m\u001b[0m\u001b[0;34m\u001b[0m\u001b[0m\n\u001b[1;32m     13\u001b[0m \u001b[0;34m\u001b[0m\u001b[0m\n\u001b[0;32m---> 14\u001b[0;31m         \u001b[0mlinks\u001b[0m \u001b[0;34m=\u001b[0m \u001b[0mdriver\u001b[0m\u001b[0;34m.\u001b[0m\u001b[0mfind_elements_by_xpath\u001b[0m\u001b[0;34m(\u001b[0m\u001b[0mnewMain\u001b[0m\u001b[0;34m)\u001b[0m\u001b[0;34m\u001b[0m\u001b[0;34m\u001b[0m\u001b[0m\n\u001b[0m\u001b[1;32m     15\u001b[0m         \u001b[0;32mfor\u001b[0m \u001b[0mvalues\u001b[0m \u001b[0;32min\u001b[0m \u001b[0mlinks\u001b[0m\u001b[0;34m:\u001b[0m\u001b[0;34m\u001b[0m\u001b[0;34m\u001b[0m\u001b[0m\n\u001b[1;32m     16\u001b[0m             \u001b[0mhover\u001b[0m \u001b[0;34m=\u001b[0m \u001b[0mActionChains\u001b[0m\u001b[0;34m(\u001b[0m\u001b[0mdriver\u001b[0m\u001b[0;34m)\u001b[0m\u001b[0;34m.\u001b[0m\u001b[0mmove_to_element\u001b[0m\u001b[0;34m(\u001b[0m\u001b[0mvalues\u001b[0m\u001b[0;34m)\u001b[0m\u001b[0;34m\u001b[0m\u001b[0;34m\u001b[0m\u001b[0m\n",
      "\u001b[0;32m~/opt/miniconda3/lib/python3.9/site-packages/selenium/webdriver/remote/webdriver.py\u001b[0m in \u001b[0;36mfind_elements_by_xpath\u001b[0;34m(self, xpath)\u001b[0m\n\u001b[1;32m    535\u001b[0m             \u001b[0mstacklevel\u001b[0m\u001b[0;34m=\u001b[0m\u001b[0;36m2\u001b[0m\u001b[0;34m,\u001b[0m\u001b[0;34m\u001b[0m\u001b[0;34m\u001b[0m\u001b[0m\n\u001b[1;32m    536\u001b[0m         )\n\u001b[0;32m--> 537\u001b[0;31m         \u001b[0;32mreturn\u001b[0m \u001b[0mself\u001b[0m\u001b[0;34m.\u001b[0m\u001b[0mfind_elements\u001b[0m\u001b[0;34m(\u001b[0m\u001b[0mby\u001b[0m\u001b[0;34m=\u001b[0m\u001b[0mBy\u001b[0m\u001b[0;34m.\u001b[0m\u001b[0mXPATH\u001b[0m\u001b[0;34m,\u001b[0m \u001b[0mvalue\u001b[0m\u001b[0;34m=\u001b[0m\u001b[0mxpath\u001b[0m\u001b[0;34m)\u001b[0m\u001b[0;34m\u001b[0m\u001b[0;34m\u001b[0m\u001b[0m\n\u001b[0m\u001b[1;32m    538\u001b[0m \u001b[0;34m\u001b[0m\u001b[0m\n\u001b[1;32m    539\u001b[0m     \u001b[0;32mdef\u001b[0m \u001b[0mfind_element_by_link_text\u001b[0m\u001b[0;34m(\u001b[0m\u001b[0mself\u001b[0m\u001b[0;34m,\u001b[0m \u001b[0mlink_text\u001b[0m\u001b[0;34m)\u001b[0m \u001b[0;34m->\u001b[0m \u001b[0mWebElement\u001b[0m\u001b[0;34m:\u001b[0m\u001b[0;34m\u001b[0m\u001b[0;34m\u001b[0m\u001b[0m\n",
      "\u001b[0;32m~/opt/miniconda3/lib/python3.9/site-packages/selenium/webdriver/remote/webdriver.py\u001b[0m in \u001b[0;36mfind_elements\u001b[0;34m(self, by, value)\u001b[0m\n\u001b[1;32m   1271\u001b[0m         \u001b[0;31m# Return empty list if driver returns null\u001b[0m\u001b[0;34m\u001b[0m\u001b[0;34m\u001b[0m\u001b[0m\n\u001b[1;32m   1272\u001b[0m         \u001b[0;31m# See https://github.com/SeleniumHQ/selenium/issues/4555\u001b[0m\u001b[0;34m\u001b[0m\u001b[0;34m\u001b[0m\u001b[0m\n\u001b[0;32m-> 1273\u001b[0;31m         return self.execute(Command.FIND_ELEMENTS, {\n\u001b[0m\u001b[1;32m   1274\u001b[0m             \u001b[0;34m'using'\u001b[0m\u001b[0;34m:\u001b[0m \u001b[0mby\u001b[0m\u001b[0;34m,\u001b[0m\u001b[0;34m\u001b[0m\u001b[0;34m\u001b[0m\u001b[0m\n\u001b[1;32m   1275\u001b[0m             'value': value})['value'] or []\n",
      "\u001b[0;32m~/opt/miniconda3/lib/python3.9/site-packages/selenium/webdriver/remote/webdriver.py\u001b[0m in \u001b[0;36mexecute\u001b[0;34m(self, driver_command, params)\u001b[0m\n\u001b[1;32m    414\u001b[0m \u001b[0;34m\u001b[0m\u001b[0m\n\u001b[1;32m    415\u001b[0m         \u001b[0mparams\u001b[0m \u001b[0;34m=\u001b[0m \u001b[0mself\u001b[0m\u001b[0;34m.\u001b[0m\u001b[0m_wrap_value\u001b[0m\u001b[0;34m(\u001b[0m\u001b[0mparams\u001b[0m\u001b[0;34m)\u001b[0m\u001b[0;34m\u001b[0m\u001b[0;34m\u001b[0m\u001b[0m\n\u001b[0;32m--> 416\u001b[0;31m         \u001b[0mresponse\u001b[0m \u001b[0;34m=\u001b[0m \u001b[0mself\u001b[0m\u001b[0;34m.\u001b[0m\u001b[0mcommand_executor\u001b[0m\u001b[0;34m.\u001b[0m\u001b[0mexecute\u001b[0m\u001b[0;34m(\u001b[0m\u001b[0mdriver_command\u001b[0m\u001b[0;34m,\u001b[0m \u001b[0mparams\u001b[0m\u001b[0;34m)\u001b[0m\u001b[0;34m\u001b[0m\u001b[0;34m\u001b[0m\u001b[0m\n\u001b[0m\u001b[1;32m    417\u001b[0m         \u001b[0;32mif\u001b[0m \u001b[0mresponse\u001b[0m\u001b[0;34m:\u001b[0m\u001b[0;34m\u001b[0m\u001b[0;34m\u001b[0m\u001b[0m\n\u001b[1;32m    418\u001b[0m             \u001b[0mself\u001b[0m\u001b[0;34m.\u001b[0m\u001b[0merror_handler\u001b[0m\u001b[0;34m.\u001b[0m\u001b[0mcheck_response\u001b[0m\u001b[0;34m(\u001b[0m\u001b[0mresponse\u001b[0m\u001b[0;34m)\u001b[0m\u001b[0;34m\u001b[0m\u001b[0;34m\u001b[0m\u001b[0m\n",
      "\u001b[0;32m~/opt/miniconda3/lib/python3.9/site-packages/selenium/webdriver/remote/remote_connection.py\u001b[0m in \u001b[0;36mexecute\u001b[0;34m(self, command, params)\u001b[0m\n\u001b[1;32m    396\u001b[0m         \u001b[0mdata\u001b[0m \u001b[0;34m=\u001b[0m \u001b[0mutils\u001b[0m\u001b[0;34m.\u001b[0m\u001b[0mdump_json\u001b[0m\u001b[0;34m(\u001b[0m\u001b[0mparams\u001b[0m\u001b[0;34m)\u001b[0m\u001b[0;34m\u001b[0m\u001b[0;34m\u001b[0m\u001b[0m\n\u001b[1;32m    397\u001b[0m         \u001b[0murl\u001b[0m \u001b[0;34m=\u001b[0m \u001b[0;34mf\"{self._url}{path}\"\u001b[0m\u001b[0;34m\u001b[0m\u001b[0;34m\u001b[0m\u001b[0m\n\u001b[0;32m--> 398\u001b[0;31m         \u001b[0;32mreturn\u001b[0m \u001b[0mself\u001b[0m\u001b[0;34m.\u001b[0m\u001b[0m_request\u001b[0m\u001b[0;34m(\u001b[0m\u001b[0mcommand_info\u001b[0m\u001b[0;34m[\u001b[0m\u001b[0;36m0\u001b[0m\u001b[0;34m]\u001b[0m\u001b[0;34m,\u001b[0m \u001b[0murl\u001b[0m\u001b[0;34m,\u001b[0m \u001b[0mbody\u001b[0m\u001b[0;34m=\u001b[0m\u001b[0mdata\u001b[0m\u001b[0;34m)\u001b[0m\u001b[0;34m\u001b[0m\u001b[0;34m\u001b[0m\u001b[0m\n\u001b[0m\u001b[1;32m    399\u001b[0m \u001b[0;34m\u001b[0m\u001b[0m\n\u001b[1;32m    400\u001b[0m     \u001b[0;32mdef\u001b[0m \u001b[0m_request\u001b[0m\u001b[0;34m(\u001b[0m\u001b[0mself\u001b[0m\u001b[0;34m,\u001b[0m \u001b[0mmethod\u001b[0m\u001b[0;34m,\u001b[0m \u001b[0murl\u001b[0m\u001b[0;34m,\u001b[0m \u001b[0mbody\u001b[0m\u001b[0;34m=\u001b[0m\u001b[0;32mNone\u001b[0m\u001b[0;34m)\u001b[0m\u001b[0;34m:\u001b[0m\u001b[0;34m\u001b[0m\u001b[0;34m\u001b[0m\u001b[0m\n",
      "\u001b[0;32m~/opt/miniconda3/lib/python3.9/site-packages/selenium/webdriver/remote/remote_connection.py\u001b[0m in \u001b[0;36m_request\u001b[0;34m(self, method, url, body)\u001b[0m\n\u001b[1;32m    418\u001b[0m \u001b[0;34m\u001b[0m\u001b[0m\n\u001b[1;32m    419\u001b[0m         \u001b[0;32mif\u001b[0m \u001b[0mself\u001b[0m\u001b[0;34m.\u001b[0m\u001b[0mkeep_alive\u001b[0m\u001b[0;34m:\u001b[0m\u001b[0;34m\u001b[0m\u001b[0;34m\u001b[0m\u001b[0m\n\u001b[0;32m--> 420\u001b[0;31m             \u001b[0mresp\u001b[0m \u001b[0;34m=\u001b[0m \u001b[0mself\u001b[0m\u001b[0;34m.\u001b[0m\u001b[0m_conn\u001b[0m\u001b[0;34m.\u001b[0m\u001b[0mrequest\u001b[0m\u001b[0;34m(\u001b[0m\u001b[0mmethod\u001b[0m\u001b[0;34m,\u001b[0m \u001b[0murl\u001b[0m\u001b[0;34m,\u001b[0m \u001b[0mbody\u001b[0m\u001b[0;34m=\u001b[0m\u001b[0mbody\u001b[0m\u001b[0;34m,\u001b[0m \u001b[0mheaders\u001b[0m\u001b[0;34m=\u001b[0m\u001b[0mheaders\u001b[0m\u001b[0;34m)\u001b[0m\u001b[0;34m\u001b[0m\u001b[0;34m\u001b[0m\u001b[0m\n\u001b[0m\u001b[1;32m    421\u001b[0m             \u001b[0mstatuscode\u001b[0m \u001b[0;34m=\u001b[0m \u001b[0mresp\u001b[0m\u001b[0;34m.\u001b[0m\u001b[0mstatus\u001b[0m\u001b[0;34m\u001b[0m\u001b[0;34m\u001b[0m\u001b[0m\n\u001b[1;32m    422\u001b[0m         \u001b[0;32melse\u001b[0m\u001b[0;34m:\u001b[0m\u001b[0;34m\u001b[0m\u001b[0;34m\u001b[0m\u001b[0m\n",
      "\u001b[0;32m~/opt/miniconda3/lib/python3.9/site-packages/urllib3/request.py\u001b[0m in \u001b[0;36mrequest\u001b[0;34m(self, method, url, fields, headers, **urlopen_kw)\u001b[0m\n\u001b[1;32m     76\u001b[0m             )\n\u001b[1;32m     77\u001b[0m         \u001b[0;32melse\u001b[0m\u001b[0;34m:\u001b[0m\u001b[0;34m\u001b[0m\u001b[0;34m\u001b[0m\u001b[0m\n\u001b[0;32m---> 78\u001b[0;31m             return self.request_encode_body(\n\u001b[0m\u001b[1;32m     79\u001b[0m                 \u001b[0mmethod\u001b[0m\u001b[0;34m,\u001b[0m \u001b[0murl\u001b[0m\u001b[0;34m,\u001b[0m \u001b[0mfields\u001b[0m\u001b[0;34m=\u001b[0m\u001b[0mfields\u001b[0m\u001b[0;34m,\u001b[0m \u001b[0mheaders\u001b[0m\u001b[0;34m=\u001b[0m\u001b[0mheaders\u001b[0m\u001b[0;34m,\u001b[0m \u001b[0;34m**\u001b[0m\u001b[0murlopen_kw\u001b[0m\u001b[0;34m\u001b[0m\u001b[0;34m\u001b[0m\u001b[0m\n\u001b[1;32m     80\u001b[0m             )\n",
      "\u001b[0;32m~/opt/miniconda3/lib/python3.9/site-packages/urllib3/request.py\u001b[0m in \u001b[0;36mrequest_encode_body\u001b[0;34m(self, method, url, fields, headers, encode_multipart, multipart_boundary, **urlopen_kw)\u001b[0m\n\u001b[1;32m    168\u001b[0m         \u001b[0mextra_kw\u001b[0m\u001b[0;34m.\u001b[0m\u001b[0mupdate\u001b[0m\u001b[0;34m(\u001b[0m\u001b[0murlopen_kw\u001b[0m\u001b[0;34m)\u001b[0m\u001b[0;34m\u001b[0m\u001b[0;34m\u001b[0m\u001b[0m\n\u001b[1;32m    169\u001b[0m \u001b[0;34m\u001b[0m\u001b[0m\n\u001b[0;32m--> 170\u001b[0;31m         \u001b[0;32mreturn\u001b[0m \u001b[0mself\u001b[0m\u001b[0;34m.\u001b[0m\u001b[0murlopen\u001b[0m\u001b[0;34m(\u001b[0m\u001b[0mmethod\u001b[0m\u001b[0;34m,\u001b[0m \u001b[0murl\u001b[0m\u001b[0;34m,\u001b[0m \u001b[0;34m**\u001b[0m\u001b[0mextra_kw\u001b[0m\u001b[0;34m)\u001b[0m\u001b[0;34m\u001b[0m\u001b[0;34m\u001b[0m\u001b[0m\n\u001b[0m",
      "\u001b[0;32m~/opt/miniconda3/lib/python3.9/site-packages/urllib3/poolmanager.py\u001b[0m in \u001b[0;36murlopen\u001b[0;34m(self, method, url, redirect, **kw)\u001b[0m\n\u001b[1;32m    373\u001b[0m             \u001b[0mresponse\u001b[0m \u001b[0;34m=\u001b[0m \u001b[0mconn\u001b[0m\u001b[0;34m.\u001b[0m\u001b[0murlopen\u001b[0m\u001b[0;34m(\u001b[0m\u001b[0mmethod\u001b[0m\u001b[0;34m,\u001b[0m \u001b[0murl\u001b[0m\u001b[0;34m,\u001b[0m \u001b[0;34m**\u001b[0m\u001b[0mkw\u001b[0m\u001b[0;34m)\u001b[0m\u001b[0;34m\u001b[0m\u001b[0;34m\u001b[0m\u001b[0m\n\u001b[1;32m    374\u001b[0m         \u001b[0;32melse\u001b[0m\u001b[0;34m:\u001b[0m\u001b[0;34m\u001b[0m\u001b[0;34m\u001b[0m\u001b[0m\n\u001b[0;32m--> 375\u001b[0;31m             \u001b[0mresponse\u001b[0m \u001b[0;34m=\u001b[0m \u001b[0mconn\u001b[0m\u001b[0;34m.\u001b[0m\u001b[0murlopen\u001b[0m\u001b[0;34m(\u001b[0m\u001b[0mmethod\u001b[0m\u001b[0;34m,\u001b[0m \u001b[0mu\u001b[0m\u001b[0;34m.\u001b[0m\u001b[0mrequest_uri\u001b[0m\u001b[0;34m,\u001b[0m \u001b[0;34m**\u001b[0m\u001b[0mkw\u001b[0m\u001b[0;34m)\u001b[0m\u001b[0;34m\u001b[0m\u001b[0;34m\u001b[0m\u001b[0m\n\u001b[0m\u001b[1;32m    376\u001b[0m \u001b[0;34m\u001b[0m\u001b[0m\n\u001b[1;32m    377\u001b[0m         \u001b[0mredirect_location\u001b[0m \u001b[0;34m=\u001b[0m \u001b[0mredirect\u001b[0m \u001b[0;32mand\u001b[0m \u001b[0mresponse\u001b[0m\u001b[0;34m.\u001b[0m\u001b[0mget_redirect_location\u001b[0m\u001b[0;34m(\u001b[0m\u001b[0;34m)\u001b[0m\u001b[0;34m\u001b[0m\u001b[0;34m\u001b[0m\u001b[0m\n",
      "\u001b[0;32m~/opt/miniconda3/lib/python3.9/site-packages/urllib3/connectionpool.py\u001b[0m in \u001b[0;36murlopen\u001b[0;34m(self, method, url, body, headers, retries, redirect, assert_same_host, timeout, pool_timeout, release_conn, chunked, body_pos, **response_kw)\u001b[0m\n\u001b[1;32m    697\u001b[0m \u001b[0;34m\u001b[0m\u001b[0m\n\u001b[1;32m    698\u001b[0m             \u001b[0;31m# Make the request on the httplib connection object.\u001b[0m\u001b[0;34m\u001b[0m\u001b[0;34m\u001b[0m\u001b[0m\n\u001b[0;32m--> 699\u001b[0;31m             httplib_response = self._make_request(\n\u001b[0m\u001b[1;32m    700\u001b[0m                 \u001b[0mconn\u001b[0m\u001b[0;34m,\u001b[0m\u001b[0;34m\u001b[0m\u001b[0;34m\u001b[0m\u001b[0m\n\u001b[1;32m    701\u001b[0m                 \u001b[0mmethod\u001b[0m\u001b[0;34m,\u001b[0m\u001b[0;34m\u001b[0m\u001b[0;34m\u001b[0m\u001b[0m\n",
      "\u001b[0;32m~/opt/miniconda3/lib/python3.9/site-packages/urllib3/connectionpool.py\u001b[0m in \u001b[0;36m_make_request\u001b[0;34m(self, conn, method, url, timeout, chunked, **httplib_request_kw)\u001b[0m\n\u001b[1;32m    443\u001b[0m                     \u001b[0;31m# Python 3 (including for exceptions like SystemExit).\u001b[0m\u001b[0;34m\u001b[0m\u001b[0;34m\u001b[0m\u001b[0m\n\u001b[1;32m    444\u001b[0m                     \u001b[0;31m# Otherwise it looks like a bug in the code.\u001b[0m\u001b[0;34m\u001b[0m\u001b[0;34m\u001b[0m\u001b[0m\n\u001b[0;32m--> 445\u001b[0;31m                     \u001b[0msix\u001b[0m\u001b[0;34m.\u001b[0m\u001b[0mraise_from\u001b[0m\u001b[0;34m(\u001b[0m\u001b[0me\u001b[0m\u001b[0;34m,\u001b[0m \u001b[0;32mNone\u001b[0m\u001b[0;34m)\u001b[0m\u001b[0;34m\u001b[0m\u001b[0;34m\u001b[0m\u001b[0m\n\u001b[0m\u001b[1;32m    446\u001b[0m         \u001b[0;32mexcept\u001b[0m \u001b[0;34m(\u001b[0m\u001b[0mSocketTimeout\u001b[0m\u001b[0;34m,\u001b[0m \u001b[0mBaseSSLError\u001b[0m\u001b[0;34m,\u001b[0m \u001b[0mSocketError\u001b[0m\u001b[0;34m)\u001b[0m \u001b[0;32mas\u001b[0m \u001b[0me\u001b[0m\u001b[0;34m:\u001b[0m\u001b[0;34m\u001b[0m\u001b[0;34m\u001b[0m\u001b[0m\n\u001b[1;32m    447\u001b[0m             \u001b[0mself\u001b[0m\u001b[0;34m.\u001b[0m\u001b[0m_raise_timeout\u001b[0m\u001b[0;34m(\u001b[0m\u001b[0merr\u001b[0m\u001b[0;34m=\u001b[0m\u001b[0me\u001b[0m\u001b[0;34m,\u001b[0m \u001b[0murl\u001b[0m\u001b[0;34m=\u001b[0m\u001b[0murl\u001b[0m\u001b[0;34m,\u001b[0m \u001b[0mtimeout_value\u001b[0m\u001b[0;34m=\u001b[0m\u001b[0mread_timeout\u001b[0m\u001b[0;34m)\u001b[0m\u001b[0;34m\u001b[0m\u001b[0;34m\u001b[0m\u001b[0m\n",
      "\u001b[0;32m~/opt/miniconda3/lib/python3.9/site-packages/urllib3/packages/six.py\u001b[0m in \u001b[0;36mraise_from\u001b[0;34m(value, from_value)\u001b[0m\n",
      "\u001b[0;32m~/opt/miniconda3/lib/python3.9/site-packages/urllib3/connectionpool.py\u001b[0m in \u001b[0;36m_make_request\u001b[0;34m(self, conn, method, url, timeout, chunked, **httplib_request_kw)\u001b[0m\n\u001b[1;32m    438\u001b[0m                 \u001b[0;31m# Python 3\u001b[0m\u001b[0;34m\u001b[0m\u001b[0;34m\u001b[0m\u001b[0m\n\u001b[1;32m    439\u001b[0m                 \u001b[0;32mtry\u001b[0m\u001b[0;34m:\u001b[0m\u001b[0;34m\u001b[0m\u001b[0;34m\u001b[0m\u001b[0m\n\u001b[0;32m--> 440\u001b[0;31m                     \u001b[0mhttplib_response\u001b[0m \u001b[0;34m=\u001b[0m \u001b[0mconn\u001b[0m\u001b[0;34m.\u001b[0m\u001b[0mgetresponse\u001b[0m\u001b[0;34m(\u001b[0m\u001b[0;34m)\u001b[0m\u001b[0;34m\u001b[0m\u001b[0;34m\u001b[0m\u001b[0m\n\u001b[0m\u001b[1;32m    441\u001b[0m                 \u001b[0;32mexcept\u001b[0m \u001b[0mBaseException\u001b[0m \u001b[0;32mas\u001b[0m \u001b[0me\u001b[0m\u001b[0;34m:\u001b[0m\u001b[0;34m\u001b[0m\u001b[0;34m\u001b[0m\u001b[0m\n\u001b[1;32m    442\u001b[0m                     \u001b[0;31m# Remove the TypeError from the exception chain in\u001b[0m\u001b[0;34m\u001b[0m\u001b[0;34m\u001b[0m\u001b[0m\n",
      "\u001b[0;32m~/opt/miniconda3/lib/python3.9/http/client.py\u001b[0m in \u001b[0;36mgetresponse\u001b[0;34m(self)\u001b[0m\n\u001b[1;32m   1369\u001b[0m         \u001b[0;32mtry\u001b[0m\u001b[0;34m:\u001b[0m\u001b[0;34m\u001b[0m\u001b[0;34m\u001b[0m\u001b[0m\n\u001b[1;32m   1370\u001b[0m             \u001b[0;32mtry\u001b[0m\u001b[0;34m:\u001b[0m\u001b[0;34m\u001b[0m\u001b[0;34m\u001b[0m\u001b[0m\n\u001b[0;32m-> 1371\u001b[0;31m                 \u001b[0mresponse\u001b[0m\u001b[0;34m.\u001b[0m\u001b[0mbegin\u001b[0m\u001b[0;34m(\u001b[0m\u001b[0;34m)\u001b[0m\u001b[0;34m\u001b[0m\u001b[0;34m\u001b[0m\u001b[0m\n\u001b[0m\u001b[1;32m   1372\u001b[0m             \u001b[0;32mexcept\u001b[0m \u001b[0mConnectionError\u001b[0m\u001b[0;34m:\u001b[0m\u001b[0;34m\u001b[0m\u001b[0;34m\u001b[0m\u001b[0m\n\u001b[1;32m   1373\u001b[0m                 \u001b[0mself\u001b[0m\u001b[0;34m.\u001b[0m\u001b[0mclose\u001b[0m\u001b[0;34m(\u001b[0m\u001b[0;34m)\u001b[0m\u001b[0;34m\u001b[0m\u001b[0;34m\u001b[0m\u001b[0m\n",
      "\u001b[0;32m~/opt/miniconda3/lib/python3.9/http/client.py\u001b[0m in \u001b[0;36mbegin\u001b[0;34m(self)\u001b[0m\n\u001b[1;32m    317\u001b[0m         \u001b[0;31m# read until we get a non-100 response\u001b[0m\u001b[0;34m\u001b[0m\u001b[0;34m\u001b[0m\u001b[0m\n\u001b[1;32m    318\u001b[0m         \u001b[0;32mwhile\u001b[0m \u001b[0;32mTrue\u001b[0m\u001b[0;34m:\u001b[0m\u001b[0;34m\u001b[0m\u001b[0;34m\u001b[0m\u001b[0m\n\u001b[0;32m--> 319\u001b[0;31m             \u001b[0mversion\u001b[0m\u001b[0;34m,\u001b[0m \u001b[0mstatus\u001b[0m\u001b[0;34m,\u001b[0m \u001b[0mreason\u001b[0m \u001b[0;34m=\u001b[0m \u001b[0mself\u001b[0m\u001b[0;34m.\u001b[0m\u001b[0m_read_status\u001b[0m\u001b[0;34m(\u001b[0m\u001b[0;34m)\u001b[0m\u001b[0;34m\u001b[0m\u001b[0;34m\u001b[0m\u001b[0m\n\u001b[0m\u001b[1;32m    320\u001b[0m             \u001b[0;32mif\u001b[0m \u001b[0mstatus\u001b[0m \u001b[0;34m!=\u001b[0m \u001b[0mCONTINUE\u001b[0m\u001b[0;34m:\u001b[0m\u001b[0;34m\u001b[0m\u001b[0;34m\u001b[0m\u001b[0m\n\u001b[1;32m    321\u001b[0m                 \u001b[0;32mbreak\u001b[0m\u001b[0;34m\u001b[0m\u001b[0;34m\u001b[0m\u001b[0m\n",
      "\u001b[0;32m~/opt/miniconda3/lib/python3.9/http/client.py\u001b[0m in \u001b[0;36m_read_status\u001b[0;34m(self)\u001b[0m\n\u001b[1;32m    278\u001b[0m \u001b[0;34m\u001b[0m\u001b[0m\n\u001b[1;32m    279\u001b[0m     \u001b[0;32mdef\u001b[0m \u001b[0m_read_status\u001b[0m\u001b[0;34m(\u001b[0m\u001b[0mself\u001b[0m\u001b[0;34m)\u001b[0m\u001b[0;34m:\u001b[0m\u001b[0;34m\u001b[0m\u001b[0;34m\u001b[0m\u001b[0m\n\u001b[0;32m--> 280\u001b[0;31m         \u001b[0mline\u001b[0m \u001b[0;34m=\u001b[0m \u001b[0mstr\u001b[0m\u001b[0;34m(\u001b[0m\u001b[0mself\u001b[0m\u001b[0;34m.\u001b[0m\u001b[0mfp\u001b[0m\u001b[0;34m.\u001b[0m\u001b[0mreadline\u001b[0m\u001b[0;34m(\u001b[0m\u001b[0m_MAXLINE\u001b[0m \u001b[0;34m+\u001b[0m \u001b[0;36m1\u001b[0m\u001b[0;34m)\u001b[0m\u001b[0;34m,\u001b[0m \u001b[0;34m\"iso-8859-1\"\u001b[0m\u001b[0;34m)\u001b[0m\u001b[0;34m\u001b[0m\u001b[0;34m\u001b[0m\u001b[0m\n\u001b[0m\u001b[1;32m    281\u001b[0m         \u001b[0;32mif\u001b[0m \u001b[0mlen\u001b[0m\u001b[0;34m(\u001b[0m\u001b[0mline\u001b[0m\u001b[0;34m)\u001b[0m \u001b[0;34m>\u001b[0m \u001b[0m_MAXLINE\u001b[0m\u001b[0;34m:\u001b[0m\u001b[0;34m\u001b[0m\u001b[0;34m\u001b[0m\u001b[0m\n\u001b[1;32m    282\u001b[0m             \u001b[0;32mraise\u001b[0m \u001b[0mLineTooLong\u001b[0m\u001b[0;34m(\u001b[0m\u001b[0;34m\"status line\"\u001b[0m\u001b[0;34m)\u001b[0m\u001b[0;34m\u001b[0m\u001b[0;34m\u001b[0m\u001b[0m\n",
      "\u001b[0;32m~/opt/miniconda3/lib/python3.9/socket.py\u001b[0m in \u001b[0;36mreadinto\u001b[0;34m(self, b)\u001b[0m\n\u001b[1;32m    702\u001b[0m         \u001b[0;32mwhile\u001b[0m \u001b[0;32mTrue\u001b[0m\u001b[0;34m:\u001b[0m\u001b[0;34m\u001b[0m\u001b[0;34m\u001b[0m\u001b[0m\n\u001b[1;32m    703\u001b[0m             \u001b[0;32mtry\u001b[0m\u001b[0;34m:\u001b[0m\u001b[0;34m\u001b[0m\u001b[0;34m\u001b[0m\u001b[0m\n\u001b[0;32m--> 704\u001b[0;31m                 \u001b[0;32mreturn\u001b[0m \u001b[0mself\u001b[0m\u001b[0;34m.\u001b[0m\u001b[0m_sock\u001b[0m\u001b[0;34m.\u001b[0m\u001b[0mrecv_into\u001b[0m\u001b[0;34m(\u001b[0m\u001b[0mb\u001b[0m\u001b[0;34m)\u001b[0m\u001b[0;34m\u001b[0m\u001b[0;34m\u001b[0m\u001b[0m\n\u001b[0m\u001b[1;32m    705\u001b[0m             \u001b[0;32mexcept\u001b[0m \u001b[0mtimeout\u001b[0m\u001b[0;34m:\u001b[0m\u001b[0;34m\u001b[0m\u001b[0;34m\u001b[0m\u001b[0m\n\u001b[1;32m    706\u001b[0m                 \u001b[0mself\u001b[0m\u001b[0;34m.\u001b[0m\u001b[0m_timeout_occurred\u001b[0m \u001b[0;34m=\u001b[0m \u001b[0;32mTrue\u001b[0m\u001b[0;34m\u001b[0m\u001b[0;34m\u001b[0m\u001b[0m\n",
      "\u001b[0;31mKeyboardInterrupt\u001b[0m: "
     ]
    }
   ],
   "source": [
    "bis = get_data(date,main,sub,li,driver)\n",
    "bis"
   ]
  },
  {
   "cell_type": "code",
   "execution_count": 188,
   "id": "18633943",
   "metadata": {},
   "outputs": [
    {
     "name": "stdout",
     "output_type": "stream",
     "text": [
      "1\n"
     ]
    },
    {
     "name": "stderr",
     "output_type": "stream",
     "text": [
      "/var/folders/34/kt2mvxyx0lx0f3th233kk1200000gn/T/ipykernel_15466/3394720255.py:8: DeprecationWarning: find_element_by_* commands are deprecated. Please use find_element() instead\n",
      "  elem = driver.find_element_by_xpath(dateStr[0]+'li['+str(i)+']'+dateStr[1])\n",
      "/var/folders/34/kt2mvxyx0lx0f3th233kk1200000gn/T/ipykernel_15466/3394720255.py:14: DeprecationWarning: find_elements_by_* commands are deprecated. Please use find_elements() instead\n",
      "  links = driver.find_elements_by_xpath(newMain)\n",
      "/var/folders/34/kt2mvxyx0lx0f3th233kk1200000gn/T/ipykernel_15466/3394720255.py:18: DeprecationWarning: find_element_by_* commands are deprecated. Please use find_element() instead\n",
      "  subStr = driver.find_element_by_xpath(sub)\n"
     ]
    },
    {
     "name": "stdout",
     "output_type": "stream",
     "text": [
      "2\n",
      "3\n",
      "4\n",
      "5\n",
      "6\n",
      "7\n",
      "8\n",
      "9\n",
      "10\n",
      "11\n",
      "12\n",
      "13\n",
      "14\n",
      "15\n",
      "16\n",
      "17\n",
      "18\n",
      "19\n",
      "20\n",
      "21\n"
     ]
    },
    {
     "data": {
      "text/plain": [
       "[['4 décembre 2021 ', 'Reveillé', ' 02:51-03:14'],\n",
       " ['4 décembre 2021 ', 'Profond', ' 03:14-04:28'],\n",
       " ['4 décembre 2021 ', 'Paradoxal', ' 04:28-04:40'],\n",
       " ['4 décembre 2021 ', 'Léger', ' 04:40-05:27'],\n",
       " ['4 décembre 2021 ', 'Profond', ' 05:27-05:39'],\n",
       " ['4 décembre 2021 ', 'Léger', ' 05:39-05:45'],\n",
       " ['4 décembre 2021 ', 'Reveillé', ' 05:45-05:52'],\n",
       " ['4 décembre 2021 ', 'Léger', ' 05:52-06:02'],\n",
       " ['4 décembre 2021 ', 'Paradoxal', ' 06:02-06:44'],\n",
       " ['4 décembre 2021 ', 'Léger', ' 06:44-07:08'],\n",
       " ['4 décembre 2021 ', 'Profond', ' 07:08-07:45'],\n",
       " ['4 décembre 2021 ', 'Paradoxal', ' 07:45-08:49'],\n",
       " ['3 décembre 2021 ', 'Reveillé', ' 00:16-01:11'],\n",
       " ['3 décembre 2021 ', 'Léger', ' 01:11-01:20'],\n",
       " ['3 décembre 2021 ', 'Profond', ' 01:20-02:17'],\n",
       " ['3 décembre 2021 ', 'Léger', ' 02:17-02:29'],\n",
       " ['3 décembre 2021 ', 'Profond', ' 02:29-03:24'],\n",
       " ['3 décembre 2021 ', 'Léger', ' 03:24-03:34'],\n",
       " ['3 décembre 2021 ', 'Reveillé', ' 03:34-03:40'],\n",
       " ['3 décembre 2021 ', 'Léger', ' 03:40-04:19'],\n",
       " ['3 décembre 2021 ', 'Profond', ' 04:19-04:46'],\n",
       " ['3 décembre 2021 ', 'Léger', ' 04:46-05:14'],\n",
       " ['3 décembre 2021 ', 'Reveillé', ' 05:14-05:21'],\n",
       " ['3 décembre 2021 ', 'Léger', ' 05:21-05:36'],\n",
       " ['3 décembre 2021 ', 'Paradoxal', ' 05:36-06:28'],\n",
       " ['3 décembre 2021 ', 'Léger', ' 06:28-06:51'],\n",
       " ['3 décembre 2021 ', 'Profond', ' 06:51-07:05'],\n",
       " ['3 décembre 2021 ', 'Léger', ' 07:05-07:47'],\n",
       " ['3 décembre 2021 ', 'Paradoxal', ' 07:47-08:13'],\n",
       " ['3 décembre 2021 ', 'Léger', ' 08:13-08:41'],\n",
       " ['3 décembre 2021 ', 'Profond', ' 08:41-08:52'],\n",
       " ['3 décembre 2021 ', 'Reveillé', ' 08:52-09:09'],\n",
       " ['2 décembre 2021 ', 'Reveillé', ' 00:32-01:02'],\n",
       " ['2 décembre 2021 ', 'Léger', ' 01:02-01:04'],\n",
       " ['2 décembre 2021 ', 'Reveillé', ' 01:04-01:11'],\n",
       " ['2 décembre 2021 ', 'Léger', ' 01:11-01:29'],\n",
       " ['2 décembre 2021 ', 'Profond', ' 01:29-01:47'],\n",
       " ['2 décembre 2021 ', 'Léger', ' 01:47-01:57'],\n",
       " ['2 décembre 2021 ', 'Profond', ' 01:57-02:26'],\n",
       " ['2 décembre 2021 ', 'Léger', ' 02:26-03:08'],\n",
       " ['2 décembre 2021 ', 'Profond', ' 03:08-03:26'],\n",
       " ['2 décembre 2021 ', 'Léger', ' 03:26-03:59'],\n",
       " ['2 décembre 2021 ', 'Paradoxal', ' 03:59-04:29'],\n",
       " ['2 décembre 2021 ', 'Léger', ' 04:29-05:04'],\n",
       " ['2 décembre 2021 ', 'Profond', ' 05:04-05:37'],\n",
       " ['2 décembre 2021 ', 'Paradoxal', ' 05:37-06:20'],\n",
       " ['2 décembre 2021 ', 'Léger', ' 06:20-06:33'],\n",
       " ['2 décembre 2021 ', 'Profond', ' 06:33-07:00'],\n",
       " ['2 décembre 2021 ', 'Léger', ' 07:00-07:12'],\n",
       " ['2 décembre 2021 ', 'Paradoxal', ' 07:12-07:26'],\n",
       " ['2 décembre 2021 ', 'Léger', ' 07:26-07:36'],\n",
       " ['2 décembre 2021 ', 'Paradoxal', ' 07:36-07:45'],\n",
       " ['2 décembre 2021 ', 'Paradoxal', ' 07:36-07:45'],\n",
       " ['2 décembre 2021 ', 'Paradoxal', ' 07:36-07:45'],\n",
       " ['2 décembre 2021 ', 'Paradoxal', ' 07:36-07:45'],\n",
       " ['2 décembre 2021 ', 'Paradoxal', ' 07:36-07:45'],\n",
       " ['2 décembre 2021 ', 'Paradoxal', ' 07:53-07:59'],\n",
       " ['2 décembre 2021 ', 'Léger', ' 07:59-08:31'],\n",
       " ['2 décembre 2021 ', 'Profond', ' 08:31-08:52'],\n",
       " ['2 décembre 2021 ', 'Léger', ' 08:52-09:14'],\n",
       " ['2 décembre 2021 ', 'Paradoxal', ' 09:14-09:30'],\n",
       " ['1 décembre 2021 ', 'Reveillé', ' 01:03-02:04'],\n",
       " ['1 décembre 2021 ', 'Léger', ' 02:04-02:25'],\n",
       " ['1 décembre 2021 ', 'Profond', ' 02:25-03:07'],\n",
       " ['1 décembre 2021 ', 'Léger', ' 03:07-03:23'],\n",
       " ['1 décembre 2021 ', 'Profond', ' 03:23-03:49'],\n",
       " ['1 décembre 2021 ', 'Léger', ' 03:49-04:01'],\n",
       " ['1 décembre 2021 ', 'Profond', ' 04:01-04:39'],\n",
       " ['1 décembre 2021 ', 'Léger', ' 04:39-04:50'],\n",
       " ['1 décembre 2021 ', 'Paradoxal', ' 04:50-05:05'],\n",
       " ['1 décembre 2021 ', 'Reveillé', ' 05:05-05:11'],\n",
       " ['1 décembre 2021 ', 'Paradoxal', ' 05:11-05:31'],\n",
       " ['1 décembre 2021 ', 'Léger', ' 05:31-05:50'],\n",
       " ['1 décembre 2021 ', 'Profond', ' 05:50-06:16'],\n",
       " ['1 décembre 2021 ', 'Léger', ' 06:16-06:32'],\n",
       " ['1 décembre 2021 ', 'Profond', ' 06:32-06:51'],\n",
       " ['1 décembre 2021 ', 'Paradoxal', ' 06:51-07:21'],\n",
       " ['1 décembre 2021 ', 'Léger', ' 07:21-07:47'],\n",
       " ['30 novembre 2021 ', 'Reveillé', ' 22:13-22:49'],\n",
       " ['30 novembre 2021 ', 'Léger', ' 22:49-22:52'],\n",
       " ['30 novembre 2021 ', 'Reveillé', ' 22:52-22:59'],\n",
       " ['30 novembre 2021 ', 'Léger', ' 22:59-23:06'],\n",
       " ['30 novembre 2021 ', 'Reveillé', ' 23:06-23:16'],\n",
       " ['30 novembre 2021 ', 'Léger', ' 23:16-23:36'],\n",
       " ['30 novembre 2021 ', 'Léger', ' 23:16-23:36'],\n",
       " ['30 novembre 2021 ', 'Reveillé', ' 23:38-00:08'],\n",
       " ['30 novembre 2021 ', 'Léger', ' 00:08-00:23'],\n",
       " ['30 novembre 2021 ', 'Profond', ' 00:23-00:53'],\n",
       " ['30 novembre 2021 ', 'Léger', ' 00:53-01:29'],\n",
       " ['30 novembre 2021 ', 'Profond', ' 01:29-01:47'],\n",
       " ['30 novembre 2021 ', 'Léger', ' 01:47-01:58'],\n",
       " ['30 novembre 2021 ', 'Profond', ' 01:58-02:15'],\n",
       " ['30 novembre 2021 ', 'Léger', ' 02:15-02:30'],\n",
       " ['30 novembre 2021 ', 'Paradoxal', ' 02:30-03:18'],\n",
       " ['30 novembre 2021 ', 'Profond', ' 03:18-04:05'],\n",
       " ['30 novembre 2021 ', 'Léger', ' 04:05-04:23'],\n",
       " ['30 novembre 2021 ', 'Profond', ' 04:23-04:32'],\n",
       " ['30 novembre 2021 ', 'Reveillé', ' 04:32-04:46'],\n",
       " ['30 novembre 2021 ', 'Paradoxal', ' 04:46-05:45'],\n",
       " ['30 novembre 2021 ', 'Léger', ' 05:45-05:57'],\n",
       " ['30 novembre 2021 ', 'Profond', ' 05:57-06:08'],\n",
       " ['30 novembre 2021 ', 'Léger', ' 06:08-06:25'],\n",
       " ['30 novembre 2021 ', 'Profond', ' 06:25-06:36'],\n",
       " ['30 novembre 2021 ', 'Paradoxal', ' 06:36-07:05'],\n",
       " ['30 novembre 2021 ', 'Paradoxal', ' 06:36-07:05'],\n",
       " ['30 novembre 2021 ', 'Léger', ' 07:08-07:48'],\n",
       " ['29 novembre 2021 ', 'Reveillé', ' 23:41-00:31'],\n",
       " ['29 novembre 2021 ', 'Léger', ' 00:31-00:47'],\n",
       " ['29 novembre 2021 ', 'Profond', ' 00:47-01:45'],\n",
       " ['29 novembre 2021 ', 'Léger', ' 01:45-02:10'],\n",
       " ['29 novembre 2021 ', 'Profond', ' 02:10-02:28'],\n",
       " ['29 novembre 2021 ', 'Léger', ' 02:28-02:39'],\n",
       " ['29 novembre 2021 ', 'Profond', ' 02:39-03:03'],\n",
       " ['29 novembre 2021 ', 'Léger', ' 03:03-03:16'],\n",
       " ['29 novembre 2021 ', 'Paradoxal', ' 03:16-03:32'],\n",
       " ['29 novembre 2021 ', 'Reveillé', ' 03:32-03:38'],\n",
       " ['29 novembre 2021 ', 'Paradoxal', ' 03:38-03:49'],\n",
       " ['29 novembre 2021 ', 'Léger', ' 03:49-04:01'],\n",
       " ['29 novembre 2021 ', 'Profond', ' 04:01-04:24'],\n",
       " ['29 novembre 2021 ', 'Léger', ' 04:24-04:36'],\n",
       " ['29 novembre 2021 ', 'Profond', ' 04:36-04:47'],\n",
       " ['29 novembre 2021 ', 'Léger', ' 04:47-05:13'],\n",
       " ['29 novembre 2021 ', 'Paradoxal', ' 05:13-06:02'],\n",
       " ['29 novembre 2021 ', 'Léger', ' 06:02-06:45'],\n",
       " ['29 novembre 2021 ', 'Reveillé', ' 06:45-06:55'],\n",
       " ['29 novembre 2021 ', 'Léger', ' 06:55-07:13'],\n",
       " ['29 novembre 2021 ', 'Paradoxal', ' 07:13-07:23'],\n",
       " ['29 novembre 2021 ', 'Léger', ' 07:23-07:43'],\n",
       " ['28 novembre 2021 ', 'Reveillé', ' 01:13-01:42'],\n",
       " ['28 novembre 2021 ', 'Profond', ' 01:42-02:58'],\n",
       " ['28 novembre 2021 ', 'Léger', ' 02:58-03:16'],\n",
       " ['28 novembre 2021 ', 'Profond', ' 03:16-03:30'],\n",
       " ['28 novembre 2021 ', 'Léger', ' 03:30-04:04'],\n",
       " ['28 novembre 2021 ', 'Reveillé', ' 04:04-04:12'],\n",
       " ['28 novembre 2021 ', 'Léger', ' 04:12-04:23'],\n",
       " ['28 novembre 2021 ', 'Paradoxal', ' 04:23-04:27'],\n",
       " ['28 novembre 2021 ', 'Reveillé', ' 04:27-04:38'],\n",
       " ['28 novembre 2021 ', 'Paradoxal', ' 04:38-04:43'],\n",
       " ['28 novembre 2021 ', 'Léger', ' 04:43-05:24'],\n",
       " ['28 novembre 2021 ', 'Profond', ' 05:24-05:42'],\n",
       " ['28 novembre 2021 ', 'Léger', ' 05:42-05:48'],\n",
       " ['28 novembre 2021 ', 'Reveillé', ' 05:48-05:58'],\n",
       " ['28 novembre 2021 ', 'Léger', ' 05:58-06:07'],\n",
       " ['28 novembre 2021 ', 'Paradoxal', ' 06:07-06:10'],\n",
       " ['28 novembre 2021 ', 'Reveillé', ' 06:10-06:17'],\n",
       " ['28 novembre 2021 ', 'Paradoxal', ' 06:17-06:37'],\n",
       " ['28 novembre 2021 ', 'Léger', ' 06:37-06:55'],\n",
       " ['28 novembre 2021 ', 'Profond', ' 06:55-07:40'],\n",
       " ['28 novembre 2021 ', 'Léger', ' 07:40-08:01'],\n",
       " ['28 novembre 2021 ', 'Paradoxal', ' 08:01-08:19'],\n",
       " ['27 novembre 2021 ', 'Reveillé', ' 23:47-00:38'],\n",
       " ['27 novembre 2021 ', 'Léger', ' 00:38-00:44'],\n",
       " ['27 novembre 2021 ', 'Profond', ' 00:44-00:58'],\n",
       " ['27 novembre 2021 ', 'Léger', ' 00:58-01:10'],\n",
       " ['27 novembre 2021 ', 'Profond', ' 01:10-02:49'],\n",
       " ['27 novembre 2021 ', 'Léger', ' 02:49-02:52'],\n",
       " ['27 novembre 2021 ', 'Reveillé', ' 02:52-03:12'],\n",
       " ['27 novembre 2021 ', 'Léger', ' 03:12-03:42'],\n",
       " ['27 novembre 2021 ', 'Paradoxal', ' 03:42-03:54'],\n",
       " ['27 novembre 2021 ', 'Léger', ' 03:54-04:29'],\n",
       " ['27 novembre 2021 ', 'Profond', ' 04:29-04:59'],\n",
       " ['27 novembre 2021 ', 'Léger', ' 04:59-05:00'],\n",
       " ['27 novembre 2021 ', 'Reveillé', ' 05:00-05:06'],\n",
       " ['27 novembre 2021 ', 'Léger', ' 05:06-05:23'],\n",
       " ['27 novembre 2021 ', 'Léger', ' 05:06-05:23'],\n",
       " ['27 novembre 2021 ', 'Léger', ' 05:26-05:38'],\n",
       " ['27 novembre 2021 ', 'Reveillé', ' 05:38-06:09'],\n",
       " ['27 novembre 2021 ', 'Léger', ' 06:09-06:43'],\n",
       " ['27 novembre 2021 ', 'Profond', ' 06:43-06:54'],\n",
       " ['27 novembre 2021 ', 'Léger', ' 06:54-07:08'],\n",
       " ['27 novembre 2021 ', 'Profond', ' 07:08-07:20'],\n",
       " ['27 novembre 2021 ', 'Léger', ' 07:20-07:36'],\n",
       " ['27 novembre 2021 ', 'Paradoxal', ' 07:36-08:08'],\n",
       " ['27 novembre 2021 ', 'Léger', ' 08:08-09:00'],\n",
       " ['26 novembre 2021 ', 'Reveillé', ' 00:28-00:51'],\n",
       " ['26 novembre 2021 ', 'Léger', ' 00:51-01:05'],\n",
       " ['26 novembre 2021 ', 'Profond', ' 01:05-01:23'],\n",
       " ['26 novembre 2021 ', 'Léger', ' 01:23-01:47'],\n",
       " ['26 novembre 2021 ', 'Profond', ' 01:47-02:38'],\n",
       " ['26 novembre 2021 ', 'Léger', ' 02:38-02:53'],\n",
       " ['26 novembre 2021 ', 'Reveillé', ' 02:53-03:02'],\n",
       " ['26 novembre 2021 ', 'Léger', ' 03:02-03:10'],\n",
       " ['26 novembre 2021 ', 'Paradoxal', ' 03:10-03:33'],\n",
       " ['26 novembre 2021 ', 'Léger', ' 03:33-03:55'],\n",
       " ['26 novembre 2021 ', 'Profond', ' 03:55-04:13'],\n",
       " ['26 novembre 2021 ', 'Léger', ' 04:13-04:50'],\n",
       " ['26 novembre 2021 ', 'Paradoxal', ' 04:50-05:45'],\n",
       " ['26 novembre 2021 ', 'Léger', ' 05:45-06:26'],\n",
       " ['26 novembre 2021 ', 'Profond', ' 06:26-06:44'],\n",
       " ['26 novembre 2021 ', 'Profond', ' 06:26-06:44'],\n",
       " ['26 novembre 2021 ', 'Léger', ' 06:46-07:51'],\n",
       " ['25 novembre 2021 ', 'Reveillé', ' 23:40-01:06'],\n",
       " ['25 novembre 2021 ', 'Léger', ' 01:06-01:17'],\n",
       " ['25 novembre 2021 ', 'Profond', ' 01:17-01:35'],\n",
       " ['25 novembre 2021 ', 'Léger', ' 01:35-01:45'],\n",
       " ['25 novembre 2021 ', 'Profond', ' 01:45-03:30'],\n",
       " ['25 novembre 2021 ', 'Léger', ' 03:30-03:42'],\n",
       " ['25 novembre 2021 ', 'Paradoxal', ' 03:42-03:55'],\n",
       " ['25 novembre 2021 ', 'Léger', ' 03:55-04:23'],\n",
       " ['25 novembre 2021 ', 'Profond', ' 04:23-04:51'],\n",
       " ['25 novembre 2021 ', 'Léger', ' 04:51-05:36'],\n",
       " ['25 novembre 2021 ', 'Paradoxal', ' 05:36-06:15'],\n",
       " ['25 novembre 2021 ', 'Léger', ' 06:15-07:18'],\n",
       " ['25 novembre 2021 ', 'Reveillé', ' 07:18-07:27'],\n",
       " ['24 novembre 2021 ', 'Reveillé', ' 23:49-01:01'],\n",
       " ['24 novembre 2021 ', 'Léger', ' 01:01-01:18'],\n",
       " ['24 novembre 2021 ', 'Profond', ' 01:18-02:27'],\n",
       " ['24 novembre 2021 ', 'Léger', ' 02:27-02:36'],\n",
       " ['24 novembre 2021 ', 'Profond', ' 02:36-03:38'],\n",
       " ['24 novembre 2021 ', 'Léger', ' 03:38-03:50'],\n",
       " ['24 novembre 2021 ', 'Paradoxal', ' 03:50-04:03'],\n",
       " ['24 novembre 2021 ', 'Léger', ' 04:03-04:19'],\n",
       " ['24 novembre 2021 ', 'Profond', ' 04:19-04:47'],\n",
       " ['24 novembre 2021 ', 'Léger', ' 04:47-04:57'],\n",
       " ['24 novembre 2021 ', 'Profond', ' 04:57-05:05'],\n",
       " ['24 novembre 2021 ', 'Reveillé', ' 05:05-05:11'],\n",
       " ['24 novembre 2021 ', 'Léger', ' 05:11-05:20'],\n",
       " ['24 novembre 2021 ', 'Paradoxal', ' 05:20-06:02'],\n",
       " ['24 novembre 2021 ', 'Léger', ' 06:02-06:55'],\n",
       " ['24 novembre 2021 ', 'Paradoxal', ' 06:55-07:55'],\n",
       " ['23 novembre 2021 ', 'Reveillé', ' 23:35-00:44'],\n",
       " ['23 novembre 2021 ', 'Léger', ' 00:44-00:50'],\n",
       " ['23 novembre 2021 ', 'Reveillé', ' 00:50-00:57'],\n",
       " ['23 novembre 2021 ', 'Léger', ' 00:57-01:18'],\n",
       " ['23 novembre 2021 ', 'Profond', ' 01:18-01:33'],\n",
       " ['23 novembre 2021 ', 'Léger', ' 01:33-01:43'],\n",
       " ['23 novembre 2021 ', 'Profond', ' 01:43-02:19'],\n",
       " ['23 novembre 2021 ', 'Léger', ' 02:19-03:10'],\n",
       " ['23 novembre 2021 ', 'Profond', ' 03:10-03:44'],\n",
       " ['23 novembre 2021 ', 'Léger', ' 03:44-04:09'],\n",
       " ['23 novembre 2021 ', 'Profond', ' 04:09-04:21'],\n",
       " ['23 novembre 2021 ', 'Reveillé', ' 04:21-04:28'],\n",
       " ['23 novembre 2021 ', 'Léger', ' 04:28-04:38'],\n",
       " ['23 novembre 2021 ', 'Paradoxal', ' 04:38-05:15'],\n",
       " ['23 novembre 2021 ', 'Léger', ' 05:15-06:41'],\n",
       " ['23 novembre 2021 ', 'Paradoxal', ' 06:41-07:23'],\n",
       " ['23 novembre 2021 ', 'Léger', ' 07:23-07:55'],\n",
       " ['22 novembre 2021 ', 'Reveillé', ' 23:32-23:43'],\n",
       " ['22 novembre 2021 ', 'Léger', ' 23:43-23:49'],\n",
       " ['22 novembre 2021 ', 'Léger', ' 23:43-23:49'],\n",
       " ['22 novembre 2021 ', 'Reveillé', ' 23:52-00:12'],\n",
       " ['22 novembre 2021 ', 'Léger', ' 00:12-00:41'],\n",
       " ['22 novembre 2021 ', 'Profond', ' 00:41-00:50'],\n",
       " ['22 novembre 2021 ', 'Profond', ' 00:41-00:50'],\n",
       " ['22 novembre 2021 ', 'Profond', ' 00:52-00:55'],\n",
       " ['22 novembre 2021 ', 'Léger', ' 00:55-01:08'],\n",
       " ['22 novembre 2021 ', 'Profond', ' 01:08-01:52'],\n",
       " ['22 novembre 2021 ', 'Paradoxal', ' 01:52-02:01'],\n",
       " ['22 novembre 2021 ', 'Léger', ' 02:01-02:18'],\n",
       " ['22 novembre 2021 ', 'Profond', ' 02:18-03:01'],\n",
       " ['22 novembre 2021 ', 'Léger', ' 03:01-03:11'],\n",
       " ['22 novembre 2021 ', 'Paradoxal', ' 03:11-03:49'],\n",
       " ['22 novembre 2021 ', 'Léger', ' 03:49-04:07'],\n",
       " ['22 novembre 2021 ', 'Profond', ' 04:07-04:17'],\n",
       " ['22 novembre 2021 ', 'Léger', ' 04:17-04:55'],\n",
       " ['22 novembre 2021 ', 'Reveillé', ' 04:55-05:02'],\n",
       " ['22 novembre 2021 ', 'Léger', ' 05:02-05:25'],\n",
       " ['22 novembre 2021 ', 'Paradoxal', ' 05:25-06:07'],\n",
       " ['22 novembre 2021 ', 'Léger', ' 06:07-07:07'],\n",
       " ['22 novembre 2021 ', 'Reveillé', ' 07:07-07:14'],\n",
       " ['22 novembre 2021 ', 'Léger', ' 07:14-07:45'],\n",
       " ['22 novembre 2021 ', 'Reveillé', ' 07:45-07:51'],\n",
       " ['22 novembre 2021 ', 'Léger', ' 07:51-08:10'],\n",
       " ['21 novembre 2021 ', 'Reveillé', ' 00:27-01:08'],\n",
       " ['21 novembre 2021 ', 'Léger', ' 01:08-01:21'],\n",
       " ['21 novembre 2021 ', 'Profond', ' 01:21-02:26'],\n",
       " ['21 novembre 2021 ', 'Léger', ' 02:26-03:09'],\n",
       " ['21 novembre 2021 ', 'Profond', ' 03:09-04:00'],\n",
       " ['21 novembre 2021 ', 'Paradoxal', ' 04:00-04:16'],\n",
       " ['21 novembre 2021 ', 'Paradoxal', ' 04:00-04:16'],\n",
       " ['21 novembre 2021 ', 'Reveillé', ' 04:19-04:26'],\n",
       " ['21 novembre 2021 ', 'Léger', ' 04:26-05:28'],\n",
       " ['21 novembre 2021 ', 'Paradoxal', ' 05:28-05:54'],\n",
       " ['21 novembre 2021 ', 'Léger', ' 05:54-06:47'],\n",
       " ['21 novembre 2021 ', 'Profond', ' 06:47-06:58'],\n",
       " ['21 novembre 2021 ', 'Léger', ' 06:58-07:12'],\n",
       " ['21 novembre 2021 ', 'Paradoxal', ' 07:12-07:23'],\n",
       " ['21 novembre 2021 ', 'Léger', ' 07:23-07:37'],\n",
       " ['21 novembre 2021 ', 'Paradoxal', ' 07:37-07:50'],\n",
       " ['21 novembre 2021 ', 'Léger', ' 07:50-08:16'],\n",
       " ['21 novembre 2021 ', 'Reveillé', ' 08:16-08:39'],\n",
       " ['20 novembre 2021 ', 'Reveillé', ' 00:13-00:33'],\n",
       " ['20 novembre 2021 ', 'Léger', ' 00:33-00:46'],\n",
       " ['20 novembre 2021 ', 'Profond', ' 00:46-01:31'],\n",
       " ['20 novembre 2021 ', 'Léger', ' 01:31-02:01'],\n",
       " ['20 novembre 2021 ', 'Profond', ' 02:01-03:08'],\n",
       " ['20 novembre 2021 ', 'Paradoxal', ' 03:08-03:53'],\n",
       " ['20 novembre 2021 ', 'Léger', ' 03:53-04:12'],\n",
       " ['20 novembre 2021 ', 'Profond', ' 04:12-04:36'],\n",
       " ['20 novembre 2021 ', 'Léger', ' 04:36-04:55'],\n",
       " ['20 novembre 2021 ', 'Reveillé', ' 04:55-05:03'],\n",
       " ['20 novembre 2021 ', 'Léger', ' 05:03-05:15'],\n",
       " ['20 novembre 2021 ', 'Paradoxal', ' 05:15-05:48'],\n",
       " ['20 novembre 2021 ', 'Léger', ' 05:48-06:21'],\n",
       " ['20 novembre 2021 ', 'Profond', ' 06:21-06:56'],\n",
       " ['20 novembre 2021 ', 'Paradoxal', ' 06:56-07:31'],\n",
       " ['20 novembre 2021 ', 'Léger', ' 07:31-08:10'],\n",
       " ['19 novembre 2021 ', 'Reveillé', ' 00:24-00:59'],\n",
       " ['19 novembre 2021 ', 'Reveillé', ' 00:24-00:59'],\n",
       " ['19 novembre 2021 ', 'Léger', ' 01:00-01:14'],\n",
       " ['19 novembre 2021 ', 'Profond', ' 01:14-02:34'],\n",
       " ['19 novembre 2021 ', 'Léger', ' 02:34-03:09'],\n",
       " ['19 novembre 2021 ', 'Profond', ' 03:09-03:50'],\n",
       " ['19 novembre 2021 ', 'Léger', ' 03:50-04:00'],\n",
       " ['19 novembre 2021 ', 'Paradoxal', ' 04:00-04:31'],\n",
       " ['19 novembre 2021 ', 'Léger', ' 04:31-05:03'],\n",
       " ['19 novembre 2021 ', 'Profond', ' 05:03-05:34'],\n",
       " ['19 novembre 2021 ', 'Léger', ' 05:34-06:15'],\n",
       " ['19 novembre 2021 ', 'Léger', ' 05:34-06:15'],\n",
       " ['19 novembre 2021 ', 'Léger', ' 06:18-07:37'],\n",
       " ['19 novembre 2021 ', 'Profond', ' 07:37-07:50'],\n",
       " ['18 novembre 2021 ', 'Reveillé', ' 01:34-01:39'],\n",
       " ['18 novembre 2021 ', 'Léger', ' 01:39-01:56'],\n",
       " ['18 novembre 2021 ', 'Profond', ' 01:56-02:44'],\n",
       " ['18 novembre 2021 ', 'Paradoxal', ' 02:44-02:56'],\n",
       " ['18 novembre 2021 ', 'Profond', ' 02:56-03:55'],\n",
       " ['18 novembre 2021 ', 'Léger', ' 03:55-04:08'],\n",
       " ['18 novembre 2021 ', 'Paradoxal', ' 04:08-04:29'],\n",
       " ['18 novembre 2021 ', 'Profond', ' 04:29-05:14'],\n",
       " ['18 novembre 2021 ', 'Léger', ' 05:14-05:25'],\n",
       " ['18 novembre 2021 ', 'Paradoxal', ' 05:25-06:05'],\n",
       " ['18 novembre 2021 ', 'Léger', ' 06:05-06:58'],\n",
       " ['18 novembre 2021 ', 'Paradoxal', ' 06:58-07:30'],\n",
       " ['18 novembre 2021 ', 'Léger', ' 07:30-07:51'],\n",
       " ['18 novembre 2021 ', 'Paradoxal', ' 07:51-08:02'],\n",
       " ['17 novembre 2021 ', 'Reveillé', ' 22:52-23:55'],\n",
       " ['17 novembre 2021 ', 'Léger', ' 23:55-00:05'],\n",
       " ['17 novembre 2021 ', 'Profond', ' 00:05-01:01'],\n",
       " ['17 novembre 2021 ', 'Léger', ' 01:01-01:27'],\n",
       " ['17 novembre 2021 ', 'Profond', ' 01:27-01:43'],\n",
       " ['17 novembre 2021 ', 'Léger', ' 01:43-01:58'],\n",
       " ['17 novembre 2021 ', 'Profond', ' 01:58-02:23'],\n",
       " ['17 novembre 2021 ', 'Paradoxal', ' 02:23-02:48'],\n",
       " ['17 novembre 2021 ', 'Léger', ' 02:48-03:25'],\n",
       " ['17 novembre 2021 ', 'Profond', ' 03:25-03:39'],\n",
       " ['17 novembre 2021 ', 'Reveillé', ' 03:39-03:46'],\n",
       " ['17 novembre 2021 ', 'Léger', ' 03:46-04:14'],\n",
       " ['17 novembre 2021 ', 'Paradoxal', ' 04:14-05:14'],\n",
       " ['17 novembre 2021 ', 'Léger', ' 05:14-05:36'],\n",
       " ['17 novembre 2021 ', 'Profond', ' 05:36-06:05'],\n",
       " ['17 novembre 2021 ', 'Reveillé', ' 06:05-06:17'],\n",
       " ['17 novembre 2021 ', 'Léger', ' 06:17-06:22'],\n",
       " ['17 novembre 2021 ', 'Paradoxal', ' 06:22-06:58'],\n",
       " ['17 novembre 2021 ', 'Reveillé', ' 06:58-07:11'],\n",
       " ['16 novembre 2021 ', 'Reveillé', ' 01:27-01:48'],\n",
       " ['16 novembre 2021 ', 'Léger', ' 01:48-01:57'],\n",
       " ['16 novembre 2021 ', 'Profond', ' 01:57-02:45'],\n",
       " ['16 novembre 2021 ', 'Paradoxal', ' 02:45-02:54'],\n",
       " ['16 novembre 2021 ', 'Profond', ' 02:54-03:28'],\n",
       " ['16 novembre 2021 ', 'Léger', ' 03:28-03:41'],\n",
       " ['16 novembre 2021 ', 'Profond', ' 03:41-03:57'],\n",
       " ['16 novembre 2021 ', 'Léger', ' 03:57-04:22'],\n",
       " ['16 novembre 2021 ', 'Paradoxal', ' 04:22-04:58'],\n",
       " ['16 novembre 2021 ', 'Léger', ' 04:58-05:44'],\n",
       " ['16 novembre 2021 ', 'Profond', ' 05:44-06:00'],\n",
       " ['16 novembre 2021 ', 'Léger', ' 06:00-06:17'],\n",
       " ['16 novembre 2021 ', 'Paradoxal', ' 06:17-07:14'],\n",
       " ['16 novembre 2021 ', 'Léger', ' 07:14-07:50'],\n",
       " ['15 novembre 2021 ', 'Reveillé', ' 23:38-00:30'],\n",
       " ['15 novembre 2021 ', 'Léger', ' 00:30-00:41'],\n",
       " ['15 novembre 2021 ', 'Profond', ' 00:41-01:34'],\n",
       " ['15 novembre 2021 ', 'Léger', ' 01:34-01:44'],\n",
       " ['15 novembre 2021 ', 'Profond', ' 01:44-02:29'],\n",
       " ['15 novembre 2021 ', 'Léger', ' 02:29-02:48'],\n",
       " ['15 novembre 2021 ', 'Paradoxal', ' 02:48-03:08'],\n",
       " ['15 novembre 2021 ', 'Léger', ' 03:08-03:30'],\n",
       " ['15 novembre 2021 ', 'Profond', ' 03:30-03:40'],\n",
       " ['15 novembre 2021 ', 'Léger', ' 03:40-03:58'],\n",
       " ['15 novembre 2021 ', 'Profond', ' 03:58-04:10'],\n",
       " ['15 novembre 2021 ', 'Léger', ' 04:10-04:17'],\n",
       " ['15 novembre 2021 ', 'Reveillé', ' 04:17-04:38'],\n",
       " ['15 novembre 2021 ', 'Léger', ' 04:38-04:42'],\n",
       " ['15 novembre 2021 ', 'Paradoxal', ' 04:42-04:52'],\n",
       " ['15 novembre 2021 ', 'Reveillé', ' 04:52-05:07'],\n",
       " ['15 novembre 2021 ', 'Paradoxal', ' 05:07-05:17'],\n",
       " ['15 novembre 2021 ', 'Léger', ' 05:17-06:40'],\n",
       " ['15 novembre 2021 ', 'Paradoxal', ' 06:40-07:08'],\n",
       " ['15 novembre 2021 ', 'Reveillé', ' 07:08-07:14'],\n",
       " ['15 novembre 2021 ', 'Léger', ' 07:14-08:04'],\n",
       " ['14 novembre 2021 ', 'Reveillé', ' 00:14-01:02'],\n",
       " ['14 novembre 2021 ', 'Léger', ' 01:02-01:17'],\n",
       " ['14 novembre 2021 ', 'Profond', ' 01:17-01:41'],\n",
       " ['14 novembre 2021 ', 'Profond', ' 01:17-01:41'],\n",
       " ['14 novembre 2021 ', 'Profond', ' 01:43-01:45'],\n",
       " ['14 novembre 2021 ', 'Léger', ' 01:45-02:37'],\n",
       " ['14 novembre 2021 ', 'Profond', ' 02:37-03:39'],\n",
       " ['14 novembre 2021 ', 'Léger', ' 03:39-03:51'],\n",
       " ['14 novembre 2021 ', 'Paradoxal', ' 03:51-04:14'],\n",
       " ['14 novembre 2021 ', 'Léger', ' 04:14-04:30'],\n",
       " ['14 novembre 2021 ', 'Profond', ' 04:30-04:40'],\n",
       " ['14 novembre 2021 ', 'Léger', ' 04:40-05:02'],\n",
       " ['14 novembre 2021 ', 'Profond', ' 05:02-05:16'],\n",
       " ['14 novembre 2021 ', 'Reveillé', ' 05:16-05:23'],\n",
       " ['14 novembre 2021 ', 'Léger', ' 05:23-05:33'],\n",
       " ['14 novembre 2021 ', 'Paradoxal', ' 05:33-06:04'],\n",
       " ['14 novembre 2021 ', 'Léger', ' 06:04-06:42'],\n",
       " ['14 novembre 2021 ', 'Profond', ' 06:42-06:53'],\n",
       " ['14 novembre 2021 ', 'Léger', ' 06:53-07:13'],\n",
       " ['14 novembre 2021 ', 'Paradoxal', ' 07:13-07:37'],\n",
       " ['14 novembre 2021 ', 'Léger', ' 07:37-07:50']]"
      ]
     },
     "execution_count": 188,
     "metadata": {},
     "output_type": "execute_result"
    }
   ],
   "source": [
    "data = get_data(date,main,sub,li,driver)\n",
    "data"
   ]
  },
  {
   "cell_type": "code",
   "execution_count": 220,
   "id": "6d394260",
   "metadata": {},
   "outputs": [],
   "source": [
    "#Léger, Profond, Reveillé, Paradoxal\n",
    "dfs = pd.DataFrame(data, columns = ['Date','Pattern','Time'])"
   ]
  },
  {
   "cell_type": "code",
   "execution_count": 221,
   "id": "822a926c",
   "metadata": {},
   "outputs": [
    {
     "data": {
      "text/html": [
       "<div>\n",
       "<style scoped>\n",
       "    .dataframe tbody tr th:only-of-type {\n",
       "        vertical-align: middle;\n",
       "    }\n",
       "\n",
       "    .dataframe tbody tr th {\n",
       "        vertical-align: top;\n",
       "    }\n",
       "\n",
       "    .dataframe thead th {\n",
       "        text-align: right;\n",
       "    }\n",
       "</style>\n",
       "<table border=\"1\" class=\"dataframe\">\n",
       "  <thead>\n",
       "    <tr style=\"text-align: right;\">\n",
       "      <th></th>\n",
       "      <th>Date</th>\n",
       "      <th>Pattern</th>\n",
       "      <th>Time</th>\n",
       "    </tr>\n",
       "  </thead>\n",
       "  <tbody>\n",
       "    <tr>\n",
       "      <th>0</th>\n",
       "      <td>4 décembre 2021</td>\n",
       "      <td>Reveillé</td>\n",
       "      <td>02:51-03:14</td>\n",
       "    </tr>\n",
       "    <tr>\n",
       "      <th>1</th>\n",
       "      <td>4 décembre 2021</td>\n",
       "      <td>Profond</td>\n",
       "      <td>03:14-04:28</td>\n",
       "    </tr>\n",
       "    <tr>\n",
       "      <th>2</th>\n",
       "      <td>4 décembre 2021</td>\n",
       "      <td>Paradoxal</td>\n",
       "      <td>04:28-04:40</td>\n",
       "    </tr>\n",
       "    <tr>\n",
       "      <th>3</th>\n",
       "      <td>4 décembre 2021</td>\n",
       "      <td>Léger</td>\n",
       "      <td>04:40-05:27</td>\n",
       "    </tr>\n",
       "    <tr>\n",
       "      <th>4</th>\n",
       "      <td>4 décembre 2021</td>\n",
       "      <td>Profond</td>\n",
       "      <td>05:27-05:39</td>\n",
       "    </tr>\n",
       "    <tr>\n",
       "      <th>...</th>\n",
       "      <td>...</td>\n",
       "      <td>...</td>\n",
       "      <td>...</td>\n",
       "    </tr>\n",
       "    <tr>\n",
       "      <th>395</th>\n",
       "      <td>14 novembre 2021</td>\n",
       "      <td>Léger</td>\n",
       "      <td>06:04-06:42</td>\n",
       "    </tr>\n",
       "    <tr>\n",
       "      <th>396</th>\n",
       "      <td>14 novembre 2021</td>\n",
       "      <td>Profond</td>\n",
       "      <td>06:42-06:53</td>\n",
       "    </tr>\n",
       "    <tr>\n",
       "      <th>397</th>\n",
       "      <td>14 novembre 2021</td>\n",
       "      <td>Léger</td>\n",
       "      <td>06:53-07:13</td>\n",
       "    </tr>\n",
       "    <tr>\n",
       "      <th>398</th>\n",
       "      <td>14 novembre 2021</td>\n",
       "      <td>Paradoxal</td>\n",
       "      <td>07:13-07:37</td>\n",
       "    </tr>\n",
       "    <tr>\n",
       "      <th>399</th>\n",
       "      <td>14 novembre 2021</td>\n",
       "      <td>Léger</td>\n",
       "      <td>07:37-07:50</td>\n",
       "    </tr>\n",
       "  </tbody>\n",
       "</table>\n",
       "<p>400 rows × 3 columns</p>\n",
       "</div>"
      ],
      "text/plain": [
       "                  Date    Pattern          Time\n",
       "0     4 décembre 2021    Reveillé   02:51-03:14\n",
       "1     4 décembre 2021     Profond   03:14-04:28\n",
       "2     4 décembre 2021   Paradoxal   04:28-04:40\n",
       "3     4 décembre 2021       Léger   04:40-05:27\n",
       "4     4 décembre 2021     Profond   05:27-05:39\n",
       "..                 ...        ...           ...\n",
       "395  14 novembre 2021       Léger   06:04-06:42\n",
       "396  14 novembre 2021     Profond   06:42-06:53\n",
       "397  14 novembre 2021       Léger   06:53-07:13\n",
       "398  14 novembre 2021   Paradoxal   07:13-07:37\n",
       "399  14 novembre 2021       Léger   07:37-07:50\n",
       "\n",
       "[400 rows x 3 columns]"
      ]
     },
     "execution_count": 221,
     "metadata": {},
     "output_type": "execute_result"
    }
   ],
   "source": [
    "dfs"
   ]
  },
  {
   "cell_type": "code",
   "execution_count": 222,
   "id": "a1ab1584",
   "metadata": {},
   "outputs": [],
   "source": [
    "for i in range(len(dfs)):\n",
    "    if dfs['Pattern'][i] == 'Reveillé':\n",
    "        dfs['Pattern'][i] = 'Awake'\n",
    "    elif dfs['Pattern'][i] == 'Léger':\n",
    "        dfs['Pattern'][i] = 'Light'\n",
    "    elif dfs['Pattern'][i] == 'Profond':\n",
    "        dfs['Pattern'][i] = 'Deep'\n",
    "    elif dfs['Pattern'][i] == 'Paradoxal':\n",
    "        dfs['Pattern'][i] = 'REM'"
   ]
  },
  {
   "cell_type": "code",
   "execution_count": 223,
   "id": "4ce79776",
   "metadata": {},
   "outputs": [],
   "source": [
    "for i in range(len(dfs)):\n",
    "    lst = dfs['Date'][i].split(' ')\n",
    "    if lst[1] == 'novembre':\n",
    "        dfs['Date'][i] = str(lst[0]+ ' ' + 'November' + ' ' +lst[2])\n",
    "    elif lst[1] == 'décembre':\n",
    "        dfs['Date'][i] = str(lst[0]+ ' ' + 'December' + ' ' +lst[2])"
   ]
  },
  {
   "cell_type": "code",
   "execution_count": 224,
   "id": "f7a7fdcf",
   "metadata": {},
   "outputs": [
    {
     "data": {
      "text/plain": [
       "['3', 'December', '2021']"
      ]
     },
     "execution_count": 224,
     "metadata": {},
     "output_type": "execute_result"
    }
   ],
   "source": [
    "lst = dfs['Date'][20].split(' ')\n",
    "lst"
   ]
  },
  {
   "cell_type": "code",
   "execution_count": 225,
   "id": "fa247495",
   "metadata": {},
   "outputs": [],
   "source": [
    "from time import sleep"
   ]
  },
  {
   "cell_type": "code",
   "execution_count": 229,
   "id": "00791d3e",
   "metadata": {},
   "outputs": [
    {
     "name": "stdout",
     "output_type": "stream",
     "text": [
      "1\n",
      "2\n"
     ]
    }
   ],
   "source": [
    "print(1)\n",
    "sleep(2)\n",
    "print(2)"
   ]
  },
  {
   "cell_type": "code",
   "execution_count": 227,
   "id": "7185ea90",
   "metadata": {},
   "outputs": [
    {
     "data": {
      "text/html": [
       "<div>\n",
       "<style scoped>\n",
       "    .dataframe tbody tr th:only-of-type {\n",
       "        vertical-align: middle;\n",
       "    }\n",
       "\n",
       "    .dataframe tbody tr th {\n",
       "        vertical-align: top;\n",
       "    }\n",
       "\n",
       "    .dataframe thead th {\n",
       "        text-align: right;\n",
       "    }\n",
       "</style>\n",
       "<table border=\"1\" class=\"dataframe\">\n",
       "  <thead>\n",
       "    <tr style=\"text-align: right;\">\n",
       "      <th></th>\n",
       "      <th>Date</th>\n",
       "      <th>Pattern</th>\n",
       "      <th>Time</th>\n",
       "    </tr>\n",
       "  </thead>\n",
       "  <tbody>\n",
       "    <tr>\n",
       "      <th>0</th>\n",
       "      <td>4 December 2021</td>\n",
       "      <td>Awake</td>\n",
       "      <td>02:51-03:14</td>\n",
       "    </tr>\n",
       "    <tr>\n",
       "      <th>1</th>\n",
       "      <td>4 December 2021</td>\n",
       "      <td>Deep</td>\n",
       "      <td>03:14-04:28</td>\n",
       "    </tr>\n",
       "    <tr>\n",
       "      <th>2</th>\n",
       "      <td>4 December 2021</td>\n",
       "      <td>REM</td>\n",
       "      <td>04:28-04:40</td>\n",
       "    </tr>\n",
       "    <tr>\n",
       "      <th>3</th>\n",
       "      <td>4 December 2021</td>\n",
       "      <td>Light</td>\n",
       "      <td>04:40-05:27</td>\n",
       "    </tr>\n",
       "    <tr>\n",
       "      <th>4</th>\n",
       "      <td>4 December 2021</td>\n",
       "      <td>Deep</td>\n",
       "      <td>05:27-05:39</td>\n",
       "    </tr>\n",
       "    <tr>\n",
       "      <th>...</th>\n",
       "      <td>...</td>\n",
       "      <td>...</td>\n",
       "      <td>...</td>\n",
       "    </tr>\n",
       "    <tr>\n",
       "      <th>395</th>\n",
       "      <td>14 November 2021</td>\n",
       "      <td>Light</td>\n",
       "      <td>06:04-06:42</td>\n",
       "    </tr>\n",
       "    <tr>\n",
       "      <th>396</th>\n",
       "      <td>14 November 2021</td>\n",
       "      <td>Deep</td>\n",
       "      <td>06:42-06:53</td>\n",
       "    </tr>\n",
       "    <tr>\n",
       "      <th>397</th>\n",
       "      <td>14 November 2021</td>\n",
       "      <td>Light</td>\n",
       "      <td>06:53-07:13</td>\n",
       "    </tr>\n",
       "    <tr>\n",
       "      <th>398</th>\n",
       "      <td>14 November 2021</td>\n",
       "      <td>REM</td>\n",
       "      <td>07:13-07:37</td>\n",
       "    </tr>\n",
       "    <tr>\n",
       "      <th>399</th>\n",
       "      <td>14 November 2021</td>\n",
       "      <td>Light</td>\n",
       "      <td>07:37-07:50</td>\n",
       "    </tr>\n",
       "  </tbody>\n",
       "</table>\n",
       "<p>400 rows × 3 columns</p>\n",
       "</div>"
      ],
      "text/plain": [
       "                 Date Pattern          Time\n",
       "0     4 December 2021   Awake   02:51-03:14\n",
       "1     4 December 2021    Deep   03:14-04:28\n",
       "2     4 December 2021     REM   04:28-04:40\n",
       "3     4 December 2021   Light   04:40-05:27\n",
       "4     4 December 2021    Deep   05:27-05:39\n",
       "..                ...     ...           ...\n",
       "395  14 November 2021   Light   06:04-06:42\n",
       "396  14 November 2021    Deep   06:42-06:53\n",
       "397  14 November 2021   Light   06:53-07:13\n",
       "398  14 November 2021     REM   07:13-07:37\n",
       "399  14 November 2021   Light   07:37-07:50\n",
       "\n",
       "[400 rows x 3 columns]"
      ]
     },
     "execution_count": 227,
     "metadata": {},
     "output_type": "execute_result"
    }
   ],
   "source": [
    "dfs"
   ]
  },
  {
   "cell_type": "code",
   "execution_count": 228,
   "id": "adb665e7",
   "metadata": {},
   "outputs": [],
   "source": [
    "dfs.to_csv('Scrapping_data.csv')"
   ]
  },
  {
   "cell_type": "code",
   "execution_count": null,
   "id": "96f46297",
   "metadata": {},
   "outputs": [],
   "source": []
  }
 ],
 "metadata": {
  "kernelspec": {
   "display_name": "Python 3 (ipykernel)",
   "language": "python",
   "name": "python3"
  },
  "language_info": {
   "codemirror_mode": {
    "name": "ipython",
    "version": 3
   },
   "file_extension": ".py",
   "mimetype": "text/x-python",
   "name": "python",
   "nbconvert_exporter": "python",
   "pygments_lexer": "ipython3",
   "version": "3.9.7"
  }
 },
 "nbformat": 4,
 "nbformat_minor": 5
}
